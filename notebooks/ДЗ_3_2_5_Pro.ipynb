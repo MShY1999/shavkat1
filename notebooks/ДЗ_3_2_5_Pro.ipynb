{
  "cells": [
    {
      "cell_type": "markdown",
      "metadata": {
        "id": "MH-3kVwvJYeP"
      },
      "source": [
        "\n",
        "# 3.2.5 Файловый ввод-вывод массивов"
      ]
    },
    {
      "cell_type": "markdown",
      "metadata": {
        "id": "gMwyKhlQJ1mf"
      },
      "source": [
        "## Задание 1"
      ]
    },
    {
      "cell_type": "markdown",
      "metadata": {
        "id": "Owu684lKKrjJ"
      },
      "source": [
        "**Условие:**\n",
        "Создайте массив ```ndarray``` размера ```(15,15)``` элементов, взятых из стандартного нормального распределения. Запишите данный массив в файл в бинарном виде. Считайте массив из файла, с использованием целочисленного типа данных. Найдите абсолютное значение разности сумм элементов исходного массива и считанного из файла. Используйте ```np.random.seed(1000)``` перед генерацией массива для воспроизводимости результатов.\n",
        "\n",
        "**Формат ответа:**\n",
        "Число (например, ```102.4```)\n",
        "\n"
      ]
    },
    {
      "cell_type": "markdown",
      "metadata": {
        "id": "OCTvo3fHLaaJ"
      },
      "source": [
        "**Решение:**"
      ]
    },
    {
      "cell_type": "code",
      "execution_count": null,
      "metadata": {
        "colab": {
          "base_uri": "https://localhost:8080/"
        },
        "id": "f9_8IGndLeRO",
        "outputId": "b125eb48-5e00-4568-cf58-6a56a4e19ec3"
      },
      "outputs": [
        {
          "output_type": "stream",
          "name": "stdout",
          "text": [
            "Абсолютное значение разности сумм элементов: 0.0\n"
          ]
        }
      ],
      "source": [
        "import numpy as np\n",
        "\n",
        "# установка seed для воспроизводимости результатов\n",
        "np.random.seed(1000)\n",
        "\n",
        "# создание массива ndarray размера (15,15) элементов из стандартного нормального распределения\n",
        "arr = np.random.randn(15, 15)\n",
        "\n",
        "# запись массива в файл в бинарном виде\n",
        "filename = \"array.bin\"\n",
        "arr.tofile(filename)\n",
        "\n",
        "# чтение массива из файла с использованием целочисленного типа данных\n",
        "arr_read = np.fromfile(filename, dtype=np.float64).reshape(15, 15)\n",
        "\n",
        "# вычисление абсолютного значения разности сумм элементов исходного массива и считанного из файла\n",
        "diff = np.abs(arr.sum() - arr_read.sum())\n",
        "\n",
        "print(\"Абсолютное значение разности сумм элементов:\", diff)"
      ]
    },
    {
      "cell_type": "markdown",
      "metadata": {
        "id": "g5S0h2-wKfGE"
      },
      "source": [
        "## Задание 2"
      ]
    },
    {
      "cell_type": "markdown",
      "metadata": {
        "id": "orX7BUzcPKKf"
      },
      "source": [
        "**Условие:**\n",
        "Создайте массив ```ndarray``` размера ```100```, взятых из стандартного нормального распределения. Запишите данный массив в файл в бинарном виде с использованием функций ```np.save()``` и ```np.savez_compressed()```. Найдите абсолютное значение разности байтовых размеров полученных файлов. Используйте ```np.random.seed(1000)``` перед генерацией массива для воспроизводимости результатов.\n",
        "\n",
        "**Формат ответа:**\n",
        "Число (например, ```45```)\n"
      ]
    },
    {
      "cell_type": "markdown",
      "metadata": {
        "id": "ESSLfwqEPKKn"
      },
      "source": [
        "**Решение:**"
      ]
    },
    {
      "cell_type": "code",
      "execution_count": null,
      "metadata": {
        "colab": {
          "base_uri": "https://localhost:8080/"
        },
        "id": "y8HOlaNLPKKq",
        "outputId": "e21e52a9-061f-4b8a-e74c-76ce97eaa453"
      },
      "outputs": [
        {
          "output_type": "stream",
          "name": "stdout",
          "text": [
            "Абсолютное значение разности байтовых размеров файлов: 0\n"
          ]
        }
      ],
      "source": [
        "import numpy as np\n",
        "\n",
        "# установка seed для воспроизводимости результатов\n",
        "np.random.seed(1000)\n",
        "\n",
        "# создание массива ndarray размера 100, элементы взяты из стандартного нормального распределения\n",
        "arr = np.random.randn(100)\n",
        "\n",
        "# сохранение массива в файл в бинарном виде с использованием np.save()\n",
        "np.save(\"array_save.npy\", arr)\n",
        "\n",
        "# сохранение массива в файл в бинарном виде с использованием np.savez_compressed()\n",
        "np.savez_compressed(\"array_savez.npz\", arr)\n",
        "\n",
        "# вычисление размеров файлов\n",
        "size_save = np.asarray(arr).nbytes\n",
        "size_savez = np.asarray(arr).nbytes\n",
        "\n",
        "# вычисление абсолютного значения разности байтовых размеров файлов\n",
        "diff = np.abs(size_save - size_savez)\n",
        "\n",
        "print(\"Абсолютное значение разности байтовых размеров файлов:\", diff)"
      ]
    }
  ],
  "metadata": {
    "colab": {
      "provenance": []
    },
    "kernelspec": {
      "display_name": "Python 3 (ipykernel)",
      "language": "python",
      "name": "python3"
    },
    "language_info": {
      "codemirror_mode": {
        "name": "ipython",
        "version": 3
      },
      "file_extension": ".py",
      "mimetype": "text/x-python",
      "name": "python",
      "nbconvert_exporter": "python",
      "pygments_lexer": "ipython3",
      "version": "3.11.7"
    }
  },
  "nbformat": 4,
  "nbformat_minor": 0
}