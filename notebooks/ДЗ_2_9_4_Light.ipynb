{
  "cells": [
    {
      "cell_type": "markdown",
      "metadata": {
        "id": "MH-3kVwvJYeP"
      },
      "source": [
        "\n",
        "# 2.9.4 Форматы файлов, кодировки и сохранение данных. Работа с файлами и каталогами"
      ]
    },
    {
      "cell_type": "markdown",
      "metadata": {
        "id": "gMwyKhlQJ1mf"
      },
      "source": [
        "## Задание 1"
      ]
    },
    {
      "cell_type": "markdown",
      "metadata": {
        "id": "Owu684lKKrjJ"
      },
      "source": [
        "**Условие:**\n",
        "Методами модуля ```os``` вывести содержание папки ```sample_data``` из корневой директории Google Colab.\n",
        "\n"
      ]
    },
    {
      "cell_type": "markdown",
      "metadata": {
        "id": "OCTvo3fHLaaJ"
      },
      "source": [
        "**Решение:**"
      ]
    },
    {
      "cell_type": "code",
      "execution_count": 1,
      "metadata": {
        "colab": {
          "base_uri": "https://localhost:8080/"
        },
        "id": "f9_8IGndLeRO",
        "outputId": "353c3bd0-ee20-4cbf-de53-376f86731152"
      },
      "outputs": [
        {
          "output_type": "stream",
          "name": "stdout",
          "text": [
            "['anscombe.json', 'README.md', 'mnist_train_small.csv', 'california_housing_train.csv', 'mnist_test.csv', 'california_housing_test.csv']\n"
          ]
        }
      ],
      "source": [
        "\n",
        "import os\n",
        "\n",
        "путь_к_папке = '/content/sample_data'\n",
        "содержимое_папки = os.listdir(путь_к_папке)\n",
        "print(содержимое_папки)"
      ]
    },
    {
      "cell_type": "markdown",
      "metadata": {
        "id": "g5S0h2-wKfGE"
      },
      "source": [
        "## Задание 2"
      ]
    },
    {
      "cell_type": "markdown",
      "metadata": {
        "id": "orX7BUzcPKKf"
      },
      "source": [
        "**Условие:**\n",
        "Создайте произвольный словарь из 10 элементов. Сохраните его в файл в формате ```.json```. Считайте данные из полученного файла в новый словарь и пересохраните его в формате ```.pickle```. Из вновь полученного файла считайте данные в новый словарь и сравните его с изначальным словарем.\n",
        "\n"
      ]
    },
    {
      "cell_type": "markdown",
      "metadata": {
        "id": "ESSLfwqEPKKn"
      },
      "source": [
        "**Решение:**"
      ]
    },
    {
      "cell_type": "code",
      "execution_count": 2,
      "metadata": {
        "colab": {
          "base_uri": "https://localhost:8080/"
        },
        "id": "y8HOlaNLPKKq",
        "outputId": "c27b29dc-02cd-4114-c20a-3edef377bdd0"
      },
      "outputs": [
        {
          "output_type": "stream",
          "name": "stdout",
          "text": [
            "Словари одинаковые? True\n"
          ]
        }
      ],
      "source": [
        "import json\n",
        "import pickle\n",
        "\n",
        "# Создание произвольного словаря\n",
        "исходный_словарь = {\n",
        "    \"имя\": \"Анна\",\n",
        "    \"возраст\": 25,\n",
        "    \"город\": \"Москва\",\n",
        "    \"хобби\": [\"чтение\", \"путешествия\"],\n",
        "    \"любимое_животное\": \"кошка\",\n",
        "    \"рост\": 165,\n",
        "    \"вес\": 58,\n",
        "    \"образование\": \"высшее\",\n",
        "    \"знание_языков\": [\"английский\", \"французский\"],\n",
        "    \"любимый_цвет\": \"синий\"\n",
        "}\n",
        "\n",
        "# Сохранение в формате .json\n",
        "with open('example.json', 'w') as файл_json:\n",
        "    json.dump(исходный_словарь, файл_json)\n",
        "\n",
        "# Чтение из .json файла\n",
        "with open('example.json', 'r') as файл_json:\n",
        "    новый_словарь_из_json = json.load(файл_json)\n",
        "\n",
        "# Пересохранение в формате .pickle\n",
        "with open('example.pkl', 'wb') as файл_pickle:\n",
        "    pickle.dump(новый_словарь_из_json, файл_pickle)\n",
        "\n",
        "# Чтение из .pickle файла\n",
        "with open('example.pkl', 'rb') as файл_pickle:\n",
        "    новый_словарь_из_pickle = pickle.load(файл_pickle)\n",
        "\n",
        "# Сравнение словарей\n",
        "равны = исходный_словарь == новый_словарь_из_pickle\n",
        "print(\"Словари одинаковые?\", равны)"
      ]
    }
  ],
  "metadata": {
    "colab": {
      "provenance": []
    },
    "kernelspec": {
      "display_name": "Python 3 (ipykernel)",
      "language": "python",
      "name": "python3"
    },
    "language_info": {
      "codemirror_mode": {
        "name": "ipython",
        "version": 3
      },
      "file_extension": ".py",
      "mimetype": "text/x-python",
      "name": "python",
      "nbconvert_exporter": "python",
      "pygments_lexer": "ipython3",
      "version": "3.11.7"
    }
  },
  "nbformat": 4,
  "nbformat_minor": 0
}