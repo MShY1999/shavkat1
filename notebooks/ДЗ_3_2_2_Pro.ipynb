{
  "cells": [
    {
      "cell_type": "markdown",
      "metadata": {
        "id": "MH-3kVwvJYeP"
      },
      "source": [
        "\n",
        "# 3.2.2 Индексирование и вырезание"
      ]
    },
    {
      "cell_type": "markdown",
      "metadata": {
        "id": "gMwyKhlQJ1mf"
      },
      "source": [
        "## Задание 1"
      ]
    },
    {
      "cell_type": "markdown",
      "metadata": {
        "id": "Owu684lKKrjJ"
      },
      "source": [
        "**Условие:**\n",
        "Создайте случайный целочисленный массив ```ndarray``` из ```1000``` элементов, принадлежащих интервалу ```[2,10]```. С помощью булевой индексации найдите все простые элементы в массиве. Найдите сумму полученных элементов. Используйте ```np.random.seed(1000)``` перед генерацией массива для воспроизводимости результатов.\n",
        "\n",
        "**Формат ответа:**\n",
        "Число (например, ```94```)\n",
        "\n"
      ]
    },
    {
      "cell_type": "markdown",
      "metadata": {
        "id": "OCTvo3fHLaaJ"
      },
      "source": [
        "**Решение:**"
      ]
    },
    {
      "cell_type": "code",
      "execution_count": null,
      "metadata": {
        "colab": {
          "base_uri": "https://localhost:8080/"
        },
        "id": "f9_8IGndLeRO",
        "outputId": "ce76e979-d92c-4681-9ad9-8a7fbaa52002"
      },
      "outputs": [
        {
          "output_type": "stream",
          "name": "stdout",
          "text": [
            "Сумма простых чисел в массиве: 1798\n"
          ]
        }
      ],
      "source": [
        "import numpy as np\n",
        "\n",
        "# Устанавливаем seed для воспроизводимости\n",
        "np.random.seed(1000)\n",
        "\n",
        "# Генерируем массив из 1000 элементов в интервале [2, 10]\n",
        "arr = np.random.randint(2, 11, 1000)\n",
        "\n",
        "# Создаем массив булевых значений, указывающих на все простые числа\n",
        "def is_prime(n):\n",
        "    if n <= 1:\n",
        "        return False\n",
        "    if n <= 3:\n",
        "        return True\n",
        "    if n % 2 == 0 or n % 3 == 0:\n",
        "        return False\n",
        "    i = 5\n",
        "    while i * i <= n:\n",
        "        if n % i == 0 or n % (i + 2) == 0:\n",
        "            return False\n",
        "        i += 6\n",
        "    return True\n",
        "\n",
        "prime_mask = np.array([is_prime(num) for num in arr])\n",
        "\n",
        "# Находим простые числа в массиве с помощью булевой индексации\n",
        "prime_numbers = arr[prime_mask]\n",
        "\n",
        "# Считаем сумму простых чисел\n",
        "sum_of_primes = np.sum(prime_numbers)\n",
        "\n",
        "print(\"Сумма простых чисел в массиве:\", sum_of_primes)\n",
        "\n"
      ]
    },
    {
      "cell_type": "markdown",
      "metadata": {
        "id": "g5S0h2-wKfGE"
      },
      "source": [
        "## Задание 2"
      ]
    },
    {
      "cell_type": "markdown",
      "metadata": {
        "id": "orX7BUzcPKKf"
      },
      "source": [
        "**Условие:**\n",
        "Создайте случайный целочисленный массив ```ndarray``` размера ```(10,10)``` элементов, принадлежащих отрезку ```[0,10]```. Найдите сумму квадратов элементов главной диагонали, не используя циклы. Используйте ```np.random.seed(1000)``` перед генерацией массива для воспроизводимости результатов.\n",
        "\n",
        "**Формат ответа:**\n",
        "Число (например, ```150```)\n",
        "\n"
      ]
    },
    {
      "cell_type": "markdown",
      "metadata": {
        "id": "ESSLfwqEPKKn"
      },
      "source": [
        "**Решение:**"
      ]
    },
    {
      "cell_type": "code",
      "execution_count": 1,
      "metadata": {
        "colab": {
          "base_uri": "https://localhost:8080/"
        },
        "id": "y8HOlaNLPKKq",
        "outputId": "9b997dac-e304-4bb5-afde-78a2963e76f7"
      },
      "outputs": [
        {
          "output_type": "stream",
          "name": "stdout",
          "text": [
            "Сумма квадратов элементов главной диагонали: 370\n"
          ]
        }
      ],
      "source": [
        "\n",
        "import numpy as np\n",
        "\n",
        "# Устанавливаем seed для воспроизводимости\n",
        "np.random.seed(1000)\n",
        "\n",
        "# Генерируем массив размером (10, 10) из элементов в диапазоне [0, 10]\n",
        "arr = np.random.randint(0, 11, (10, 10))\n",
        "\n",
        "# Находим главную диагональ массива\n",
        "diagonal_elements = np.diag(arr)\n",
        "\n",
        "# Суммируем квадраты элементов главной диагонали без использования циклов\n",
        "sum_of_diagonal_squares = np.sum(np.square(diagonal_elements))\n",
        "\n",
        "print(\"Сумма квадратов элементов главной диагонали:\", sum_of_diagonal_squares)"
      ]
    },
    {
      "cell_type": "markdown",
      "metadata": {
        "id": "tq0Fcrg1KfXQ"
      },
      "source": [
        "## Задание 3"
      ]
    },
    {
      "cell_type": "markdown",
      "metadata": {
        "id": "3xp-jyyHPMIb"
      },
      "source": [
        "**Условие:**\n",
        "Создайте случайный трехмерный целочисленный массив ```ndarray``` размера ```(10,10,10)``` элементов, принадлежащих отрезку ```[0,10]```. Напомним, что подвыборка по первой оси вида ```[0,:,:]``` является матрицей размера ```(10,10)```. Найти поэлементную сумму всех матриц, полученных описанной выше операцией среза при прохождении вдоль всей первой оси (```[0,:,:]```, ```[1,:,:]``` и т.д.). В ответе укажите максимальный элемент в получившейся матрице. Используйте ```np.random.seed(1000)``` перед генерацией массива для воспроизводимости результатов.\n",
        "\n",
        "**Формат ответа:**\n",
        "Число (например, ```50```)\n",
        "\n"
      ]
    },
    {
      "cell_type": "markdown",
      "metadata": {
        "id": "H5ZlBsI2PMIi"
      },
      "source": [
        "**Решение:**"
      ]
    },
    {
      "cell_type": "code",
      "execution_count": 2,
      "metadata": {
        "colab": {
          "base_uri": "https://localhost:8080/"
        },
        "id": "6amsYUCoPMIn",
        "outputId": "277403c6-1529-40f1-fc11-5d12cda68a6a"
      },
      "outputs": [
        {
          "output_type": "stream",
          "name": "stdout",
          "text": [
            "Максимальный элемент в получившейся матрице: 74\n"
          ]
        }
      ],
      "source": [
        "import numpy as np\n",
        "\n",
        "# Устанавливаем seed для воспроизводимости\n",
        "np.random.seed(1000)\n",
        "\n",
        "# Генерируем трехмерный массив размером (10, 10, 10) из элементов в диапазоне [0, 10]\n",
        "arr = np.random.randint(0, 11, (10, 10, 10))\n",
        "\n",
        "# Находим поэлементную сумму для каждой матрицы [i,:,:] вдоль первой оси\n",
        "sum_along_first_axis = np.sum(arr, axis=0)\n",
        "\n",
        "# Находим максимальный элемент в получившейся матрице\n",
        "max_element = np.max(sum_along_first_axis)\n",
        "\n",
        "print(\"Максимальный элемент в получившейся матрице:\", max_element)"
      ]
    }
  ],
  "metadata": {
    "colab": {
      "provenance": []
    },
    "kernelspec": {
      "display_name": "Python 3 (ipykernel)",
      "language": "python",
      "name": "python3"
    },
    "language_info": {
      "codemirror_mode": {
        "name": "ipython",
        "version": 3
      },
      "file_extension": ".py",
      "mimetype": "text/x-python",
      "name": "python",
      "nbconvert_exporter": "python",
      "pygments_lexer": "ipython3",
      "version": "3.11.7"
    }
  },
  "nbformat": 4,
  "nbformat_minor": 0
}