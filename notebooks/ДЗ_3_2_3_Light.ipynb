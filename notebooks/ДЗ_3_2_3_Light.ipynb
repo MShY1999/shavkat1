{
  "cells": [
    {
      "cell_type": "markdown",
      "metadata": {
        "id": "MH-3kVwvJYeP"
      },
      "source": [
        "\n",
        "# 3.2.3 Уход от циклов: обработка данных с применением массивов"
      ]
    },
    {
      "cell_type": "markdown",
      "metadata": {
        "id": "gMwyKhlQJ1mf"
      },
      "source": [
        "## Задание 1"
      ]
    },
    {
      "cell_type": "markdown",
      "metadata": {
        "id": "Owu684lKKrjJ"
      },
      "source": [
        "**Условие:**\n",
        "Создайте случайный целочисленный массив ```ndarray``` из ```12``` элементов, принадлежащих отрезку ```[0,10]```. Сделайте две матрицы размера ```(3,4)``` с порядком следования элементов в стиле С и Fortran. Найдите поэлементное произведение этих матриц, а после - максимальный элемент в полученной матрице. Используйте ```np.random.seed(1000)``` перед генерацией массива для воспроизводимости результатов.\n",
        "\n",
        "**Формат ответа:**\n",
        "Число (например, ```25```)\n",
        "\n"
      ]
    },
    {
      "cell_type": "markdown",
      "metadata": {
        "id": "OCTvo3fHLaaJ"
      },
      "source": [
        "**Решение:**"
      ]
    },
    {
      "cell_type": "code",
      "execution_count": 1,
      "metadata": {
        "colab": {
          "base_uri": "https://localhost:8080/"
        },
        "id": "f9_8IGndLeRO",
        "outputId": "552e6d73-8a1d-4218-db4c-32a682cee6a4"
      },
      "outputs": [
        {
          "output_type": "stream",
          "name": "stdout",
          "text": [
            "Максимальный элемент в полученной матрице: 100\n"
          ]
        }
      ],
      "source": [
        "import numpy as np\n",
        "\n",
        "# Устанавливаем seed для воспроизводимости\n",
        "np.random.seed(1000)\n",
        "\n",
        "# Создаем случайный массив из 12 элементов в диапазоне [0, 10]\n",
        "arr = np.random.randint(0, 11, 12)\n",
        "\n",
        "# Создаем две матрицы размером (3, 4) в стиле C и Fortran\n",
        "matrix_c_order = arr.reshape((3, 4), order='C')  # Порядок: C (по умолчанию)\n",
        "matrix_f_order = arr.reshape((3, 4), order='F')  # Порядок: Fortran\n",
        "\n",
        "# Находим поэлементное произведение матриц\n",
        "elementwise_product = np.multiply(matrix_c_order, matrix_f_order)\n",
        "\n",
        "# Находим максимальный элемент в полученной матрице\n",
        "max_element = np.max(elementwise_product)\n",
        "\n",
        "print(\"Максимальный элемент в полученной матрице:\", max_element)"
      ]
    },
    {
      "cell_type": "markdown",
      "metadata": {
        "id": "g5S0h2-wKfGE"
      },
      "source": [
        "## Задание 2"
      ]
    },
    {
      "cell_type": "markdown",
      "metadata": {
        "id": "orX7BUzcPKKf"
      },
      "source": [
        "**Условие:**\n",
        "Создайте ```3``` случайных целочисленных массива ```ndarray``` размера ```(10,10)``` элементов, принадлежащих отрезку ```[0,10]```. Сделайте из данных массивов один трехмерный массив. Найдя размер полученного массива, вычислите количество элементов в нем. Используйте ```np.random.seed(1000)``` перед генерацией массива для воспроизводимости результатов.\n",
        "\n",
        "**Формат ответа:**\n",
        "Число (например, ```56```)\n"
      ]
    },
    {
      "cell_type": "markdown",
      "metadata": {
        "id": "ESSLfwqEPKKn"
      },
      "source": [
        "**Решение:**"
      ]
    },
    {
      "cell_type": "code",
      "execution_count": 2,
      "metadata": {
        "colab": {
          "base_uri": "https://localhost:8080/"
        },
        "id": "y8HOlaNLPKKq",
        "outputId": "bb5f7ec5-d40e-4051-c778-582695425a37"
      },
      "outputs": [
        {
          "output_type": "stream",
          "name": "stdout",
          "text": [
            "Размер полученного массива: (3, 10, 10)\n",
            "Количество элементов в полученном массиве: 300\n"
          ]
        }
      ],
      "source": [
        "import numpy as np\n",
        "\n",
        "# Устанавливаем seed для воспроизводимости\n",
        "np.random.seed(1000)\n",
        "\n",
        "# Создаем три случайных массива размером (10, 10) из элементов в диапазоне [0, 10]\n",
        "arr1 = np.random.randint(0, 11, (10, 10))\n",
        "arr2 = np.random.randint(0, 11, (10, 10))\n",
        "arr3 = np.random.randint(0, 11, (10, 10))\n",
        "\n",
        "# Объединяем данные массивы в один трехмерный массив\n",
        "final_array = np.array([arr1, arr2, arr3])\n",
        "\n",
        "# Находим размер полученного массива\n",
        "shape_of_array = final_array.shape\n",
        "\n",
        "# Вычисляем количество элементов в полученном массиве\n",
        "total_elements = final_array.size\n",
        "\n",
        "print(\"Размер полученного массива:\", shape_of_array)\n",
        "print(\"Количество элементов в полученном массиве:\", total_elements)"
      ]
    },
    {
      "cell_type": "markdown",
      "metadata": {
        "id": "tq0Fcrg1KfXQ"
      },
      "source": [
        "## Задание 3"
      ]
    },
    {
      "cell_type": "markdown",
      "metadata": {
        "id": "3xp-jyyHPMIb"
      },
      "source": [
        "**Условие:**\n",
        "С использование методов ```ndarray``` сформируйте массив размера ```(20,2)```, в первом столбце которого идут целые числа, начиная с ```1```,а во втором - первые 20 нечетных чисел, начиная с ```3```. Найдите среднее значение второго столбца.\n",
        "\n",
        "**Формат ответа:**\n",
        "Число (например, ```34```)\n",
        "\n"
      ]
    },
    {
      "cell_type": "markdown",
      "metadata": {
        "id": "H5ZlBsI2PMIi"
      },
      "source": [
        "**Решение:**"
      ]
    },
    {
      "cell_type": "code",
      "execution_count": 3,
      "metadata": {
        "colab": {
          "base_uri": "https://localhost:8080/"
        },
        "id": "6amsYUCoPMIn",
        "outputId": "494c2d52-f0b7-4108-f637-d919d3823e92"
      },
      "outputs": [
        {
          "output_type": "stream",
          "name": "stdout",
          "text": [
            "Среднее значение второго столбца: 22.0\n"
          ]
        }
      ],
      "source": [
        "import numpy as np\n",
        "\n",
        "# Создаем массив размером (20, 2), где первый столбец содержит целые числа начиная с 1,\n",
        "# а второй столбец - первые 20 нечетных чисел начиная с 3\n",
        "arr = np.zeros((20, 2), dtype=int)\n",
        "arr[:, 0] = np.arange(1, 21)  # Первый столбец: целые числа начиная с 1\n",
        "arr[:, 1] = np.arange(3, 43, 2)  # Второй столбец: первые 20 нечетных чисел начиная с 3\n",
        "\n",
        "# Находим среднее значение второго столбца\n",
        "mean_second_column = np.mean(arr[:, 1])\n",
        "\n",
        "print(\"Среднее значение второго столбца:\", mean_second_column)"
      ]
    }
  ],
  "metadata": {
    "colab": {
      "provenance": []
    },
    "kernelspec": {
      "display_name": "Python 3 (ipykernel)",
      "language": "python",
      "name": "python3"
    },
    "language_info": {
      "codemirror_mode": {
        "name": "ipython",
        "version": 3
      },
      "file_extension": ".py",
      "mimetype": "text/x-python",
      "name": "python",
      "nbconvert_exporter": "python",
      "pygments_lexer": "ipython3",
      "version": "3.11.7"
    }
  },
  "nbformat": 4,
  "nbformat_minor": 0
}