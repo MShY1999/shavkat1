{
  "cells": [
    {
      "cell_type": "markdown",
      "metadata": {
        "id": "MH-3kVwvJYeP"
      },
      "source": [
        "\n",
        "# 3.2.4 Математические и статистические операции"
      ]
    },
    {
      "cell_type": "markdown",
      "metadata": {
        "id": "gMwyKhlQJ1mf"
      },
      "source": [
        "## Задание 1"
      ]
    },
    {
      "cell_type": "markdown",
      "metadata": {
        "id": "Owu684lKKrjJ"
      },
      "source": [
        "**Условие:**\n",
        "Создайте случайный целочисленный массив ```ndarray``` размера ```(10,10)``` элементов, принадлежащих отрезку ```[0,10]```. С помощью методов ```np.mean()``` и ```np.std()``` центрируйте и нормируйте элементы в столбцах. Найдите разброс полученных значений в полученной матрице. Используйте ```np.random.seed(1000)``` перед генерацией массива для воспроизводимости результатов.\n",
        "\n",
        "**Формат ответа:**\n",
        "Кортеж чисел (например, ```(-0.45,0.89)```)\n",
        "\n"
      ]
    },
    {
      "cell_type": "markdown",
      "metadata": {
        "id": "OCTvo3fHLaaJ"
      },
      "source": [
        "**Решение:**"
      ]
    },
    {
      "cell_type": "code",
      "execution_count": null,
      "metadata": {
        "colab": {
          "base_uri": "https://localhost:8080/"
        },
        "id": "f9_8IGndLeRO",
        "outputId": "05dc17da-b37d-4463-fcc3-cc8aa9634d4f"
      },
      "outputs": [
        {
          "output_type": "stream",
          "name": "stdout",
          "text": [
            "Разброс полученных значений в нормированной матрице: 0.9999999999999999\n"
          ]
        }
      ],
      "source": [
        "import numpy as np\n",
        "\n",
        "# Устанавливаем seed для воспроизводимости\n",
        "np.random.seed(1000)\n",
        "\n",
        "# Создаем случайный массив размером (10, 10) из элементов в диапазоне [0, 10]\n",
        "arr = np.random.randint(0, 11, (10, 10))\n",
        "\n",
        "# Центрируем и нормируем элементы в столбцах\n",
        "centered_array = arr - np.mean(arr, axis=0)\n",
        "normalized_array = centered_array / np.std(arr, axis=0)\n",
        "\n",
        "# Находим разброс значений в полученной матрице\n",
        "variance = np.var(normalized_array)\n",
        "\n",
        "print(\"Разброс полученных значений в нормированной матрице:\", variance)\n"
      ]
    },
    {
      "cell_type": "markdown",
      "metadata": {
        "id": "g5S0h2-wKfGE"
      },
      "source": [
        "## Задание 2"
      ]
    },
    {
      "cell_type": "markdown",
      "metadata": {
        "id": "orX7BUzcPKKf"
      },
      "source": [
        "**Условие:**\n",
        "Создайте случайный целочисленный массив ```ndarray``` размера ```(15,15)``` элементов, принадлежащих отрезку ```[0,10]```. С помощью методов булевых массивов найдите количество четных элементов в полученном массиве. Используйте ```np.random.seed(1000)``` перед генерацией массива для воспроизводимости результатов.\n",
        "\n",
        "**Формат ответа:**\n",
        "Число (например, ```56```)\n"
      ]
    },
    {
      "cell_type": "markdown",
      "metadata": {
        "id": "ESSLfwqEPKKn"
      },
      "source": [
        "**Решение:**"
      ]
    },
    {
      "cell_type": "code",
      "execution_count": null,
      "metadata": {
        "colab": {
          "base_uri": "https://localhost:8080/"
        },
        "id": "y8HOlaNLPKKq",
        "outputId": "abadffd6-1128-4d3f-a875-4bd1ca9bbecc"
      },
      "outputs": [
        {
          "output_type": "stream",
          "name": "stdout",
          "text": [
            "Количество четных элементов в полученном массиве: 124\n"
          ]
        }
      ],
      "source": [
        "import numpy as np\n",
        "\n",
        "# Установим seed для воспроизводимости\n",
        "np.random.seed(1000)\n",
        "\n",
        "# Создадим случайный массив размером (15, 15) из элементов в диапазоне [0, 10]\n",
        "arr = np.random.randint(0, 11, (15, 15))\n",
        "\n",
        "# Найдем четные элементы в массиве с помощью булевых массивов\n",
        "even_mask = arr % 2 == 0\n",
        "\n",
        "# Посчитаем количество элементов, которые являются четными\n",
        "count_even_elements = np.sum(even_mask)\n",
        "\n",
        "print(\"Количество четных элементов в полученном массиве:\", count_even_elements)"
      ]
    },
    {
      "cell_type": "markdown",
      "metadata": {
        "id": "tq0Fcrg1KfXQ"
      },
      "source": [
        "## Задание 3"
      ]
    },
    {
      "cell_type": "markdown",
      "metadata": {
        "id": "3xp-jyyHPMIb"
      },
      "source": [
        "**Условие:**\n",
        "Напишите функцию, которая принимает на вход квадратную матрицу и находит ее определитель. Если определитель отличен от нуля, то функция возвращает определитель матрицы, которая является обратной к транспанированной исходной матрице, иначе выдает ноль. Проверьте работоспособность на матрице, указанной в пункте решение.\n",
        "\n",
        "**Формат ответа:**\n",
        "Число (например, ```2.7```)\n",
        "\n",
        "\n"
      ]
    },
    {
      "cell_type": "markdown",
      "metadata": {
        "id": "H5ZlBsI2PMIi"
      },
      "source": [
        "**Решение:**"
      ]
    },
    {
      "cell_type": "code",
      "execution_count": null,
      "metadata": {
        "id": "6amsYUCoPMIn"
      },
      "outputs": [],
      "source": [
        "_INPUT_MATR_ = np.array([[2,5,7],\n",
        "                        [6,3,4],\n",
        "                        [5,-2,-3]])"
      ]
    },
    {
      "cell_type": "code",
      "execution_count": null,
      "metadata": {
        "colab": {
          "base_uri": "https://localhost:8080/"
        },
        "id": "2IsoWN0glMYv",
        "outputId": "d942a946-e283-4140-d54e-352f04a0e30e"
      },
      "outputs": [
        {
          "output_type": "stream",
          "name": "stdout",
          "text": [
            "Результат работы функции: 0.010204081632653057\n"
          ]
        }
      ],
      "source": [
        "import numpy as np\n",
        "\n",
        "def find_inverse_transposed_matrix(matrix):\n",
        "    det = np.linalg.det(matrix)\n",
        "\n",
        "    if det != 0:\n",
        "        inverse_transposed_matrix = np.linalg.inv(matrix.T)\n",
        "        return np.linalg.det(inverse_transposed_matrix)\n",
        "    else:\n",
        "        return 0\n",
        "\n",
        "# Проверка на указанной матрице из предыдущего примера\n",
        "matrix = np.array([\n",
        "    [5, 0, 3],\n",
        "    [3, 7, 9],\n",
        "    [2, 0, 4]\n",
        "])\n",
        "\n",
        "result = find_inverse_transposed_matrix(matrix)\n",
        "\n",
        "print(\"Результат работы функции:\", result)"
      ]
    }
  ],
  "metadata": {
    "colab": {
      "provenance": []
    },
    "kernelspec": {
      "display_name": "Python 3 (ipykernel)",
      "language": "python",
      "name": "python3"
    },
    "language_info": {
      "codemirror_mode": {
        "name": "ipython",
        "version": 3
      },
      "file_extension": ".py",
      "mimetype": "text/x-python",
      "name": "python",
      "nbconvert_exporter": "python",
      "pygments_lexer": "ipython3",
      "version": "3.11.7"
    }
  },
  "nbformat": 4,
  "nbformat_minor": 0
}