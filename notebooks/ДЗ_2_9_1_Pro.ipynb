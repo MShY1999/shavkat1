{
  "cells": [
    {
      "cell_type": "markdown",
      "metadata": {
        "id": "MH-3kVwvJYeP"
      },
      "source": [
        "# 2.9.1 Математические вычисления и числа, типы коллекций"
      ]
    },
    {
      "cell_type": "markdown",
      "metadata": {
        "id": "gMwyKhlQJ1mf"
      },
      "source": [
        "## Задание 1"
      ]
    },
    {
      "cell_type": "markdown",
      "metadata": {
        "id": "Owu684lKKrjJ"
      },
      "source": [
        "**Условие:**\n",
        "Используя методы модуля ```cmath```, найти значения $\\exp^{{j*2\\pi k}/{n}}$ для всех целых $k$ от $1$ до $20$ и $n=4$ ($j$ - мнимая единица). Найдите количество различных элементов при условии округления действительной и мнимой частей до целого.\n",
        "\n",
        "**Формат ответа:**\n",
        "Число (например, ```2```)"
      ]
    },
    {
      "cell_type": "markdown",
      "metadata": {
        "id": "OCTvo3fHLaaJ"
      },
      "source": [
        "**Решение:**"
      ]
    },
    {
      "cell_type": "code",
      "execution_count": null,
      "metadata": {
        "colab": {
          "base_uri": "https://localhost:8080/"
        },
        "id": "f9_8IGndLeRO",
        "outputId": "2f57454e-fb3a-4159-d063-22545839f116"
      },
      "outputs": [
        {
          "output_type": "stream",
          "name": "stdout",
          "text": [
            "Количество различных элементов после округления: 4\n"
          ]
        }
      ],
      "source": [
        "import cmath\n",
        "\n",
        "n = 4\n",
        "values = set()\n",
        "\n",
        "for k in range(1, 21):\n",
        "    result = cmath.exp(1j * 2 * cmath.pi * k / n)\n",
        "    rounded_result = (round(result.real), round(result.imag))\n",
        "    values.add(rounded_result)\n",
        "\n",
        "num_unique_values = len(values)\n",
        "print(\"Количество различных элементов после округления:\", num_unique_values)"
      ]
    },
    {
      "cell_type": "markdown",
      "metadata": {
        "id": "g5S0h2-wKfGE"
      },
      "source": [
        "## Задание 2"
      ]
    },
    {
      "cell_type": "markdown",
      "metadata": {
        "id": "orX7BUzcPKKf"
      },
      "source": [
        "**Условие:**\n",
        "Используя ```Counter``` из модуля ```collections```, найдите частоты встречаемости букв в тексте решения. Укажите наиболее частую букву.\n",
        "\n",
        "**Формат ответа:** строка (например, ```('а')```)\n",
        "\n",
        "**Оценка в баллах:** 3"
      ]
    },
    {
      "cell_type": "markdown",
      "metadata": {
        "id": "ESSLfwqEPKKn"
      },
      "source": [
        "**Решение:**"
      ]
    },
    {
      "cell_type": "code",
      "execution_count": 1,
      "metadata": {
        "colab": {
          "base_uri": "https://localhost:8080/"
        },
        "id": "y8HOlaNLPKKq",
        "outputId": "0005c161-c3f6-4e83-e454-563a2beae32d"
      },
      "outputs": [
        {
          "output_type": "stream",
          "name": "stdout",
          "text": [
            "Частоты встречаемости букв в тексте: Counter({' ': 4, 'Т': 3, 'Е': 3, 'К': 2, 'И': 2, 'Р': 2, 'Э': 1, 'О': 1, 'Н': 1, 'Й': 1, 'С': 1, 'Д': 1, 'Л': 1, 'Я': 1, 'П': 1, 'М': 1, 'А': 1})\n",
            "Наиболее частая буква:  \n"
          ]
        }
      ],
      "source": [
        "from collections import Counter\n",
        "\n",
        "текст_решения = \"ЭТО НЕКИЙ ТЕКСТ ДЛЯ ПРИМЕРА\"\n",
        "\n",
        "частоты_букв = Counter(текст_решения)\n",
        "наиболее_частая_буква = частоты_букв.most_common(1)[0][0]\n",
        "\n",
        "print(\"Частоты встречаемости букв в тексте:\", частоты_букв)\n",
        "print(\"Наиболее частая буква:\", наиболее_частая_буква)"
      ]
    }
  ],
  "metadata": {
    "colab": {
      "provenance": []
    },
    "kernelspec": {
      "display_name": "Python 3 (ipykernel)",
      "language": "python",
      "name": "python3"
    },
    "language_info": {
      "codemirror_mode": {
        "name": "ipython",
        "version": 3
      },
      "file_extension": ".py",
      "mimetype": "text/x-python",
      "name": "python",
      "nbconvert_exporter": "python",
      "pygments_lexer": "ipython3",
      "version": "3.11.7"
    }
  },
  "nbformat": 4,
  "nbformat_minor": 0
}