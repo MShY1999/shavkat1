{
  "cells": [
    {
      "cell_type": "markdown",
      "metadata": {
        "id": "MH-3kVwvJYeP"
      },
      "source": [
        "# 2.9.2 Работа с аргументами командной строки, время и дата"
      ]
    },
    {
      "cell_type": "markdown",
      "metadata": {
        "id": "gMwyKhlQJ1mf"
      },
      "source": [
        "## Задание 1"
      ]
    },
    {
      "cell_type": "markdown",
      "metadata": {
        "id": "Owu684lKKrjJ"
      },
      "source": [
        "**Условие:**\n",
        "Методами библиотеки ```datetime``` найдите название дня недели, в который вы родились.\n",
        "\n",
        "**Формат ответа:** кортеж (например, ```('monday')```)\n",
        "\n",
        "**Решение:**"
      ]
    },
    {
      "cell_type": "code",
      "execution_count": 1,
      "metadata": {
        "id": "tNyHxabSZLt3",
        "outputId": "e909a1fa-9c25-4fe5-f279-81343d31762a",
        "colab": {
          "base_uri": "https://localhost:8080/"
        }
      },
      "outputs": [
        {
          "output_type": "stream",
          "name": "stdout",
          "text": [
            "('tuesday',)\n"
          ]
        }
      ],
      "source": [
        "from datetime import datetime\n",
        "\n",
        "дата_рождения = \"1990-05-15\"\n",
        "день_недели = datetime.strptime(дата_рождения, '%Y-%m-%d').strftime('%A').lower()\n",
        "\n",
        "ответ = (день_недели,)\n",
        "print(ответ)"
      ]
    },
    {
      "cell_type": "markdown",
      "metadata": {
        "id": "g5S0h2-wKfGE"
      },
      "source": [
        "## Задание 2"
      ]
    },
    {
      "cell_type": "markdown",
      "metadata": {
        "id": "orX7BUzcPKKf"
      },
      "source": [
        "**Условие:**\n",
        "Методами библиотеки ```datetime``` проверьте правильность указания количества дней президенства 44го президента США, опираясь на даты начала и окончания из [википедии](https://ru.wikipedia.org/wiki/%D0%A1%D0%BF%D0%B8%D1%81%D0%BE%D0%BA_%D0%BF%D1%80%D0%B5%D0%B7%D0%B8%D0%B4%D0%B5%D0%BD%D1%82%D0%BE%D0%B2_%D0%A1%D0%A8%D0%90#%D0%A1%D0%BF%D0%B8%D1%81%D0%BE%D0%BA%20%D0%BF%D1%80%D0%B5%D0%B7%D0%B8%D0%B4%D0%B5%D0%BD%D1%82%D0%BE%D0%B2). Укажите полученное вами значение в ответе.\n",
        "\n",
        "**Формат ответа:**\n",
        "Число (например, ```1231```)\n",
        "\n",
        "**Оценка в баллах:** 3 балла"
      ]
    },
    {
      "cell_type": "markdown",
      "metadata": {
        "id": "ESSLfwqEPKKn"
      },
      "source": [
        "**Решение:**"
      ]
    },
    {
      "cell_type": "code",
      "execution_count": 2,
      "metadata": {
        "colab": {
          "base_uri": "https://localhost:8080/"
        },
        "id": "y8HOlaNLPKKq",
        "outputId": "46f634fd-647e-40a1-f789-5221316c60e9"
      },
      "outputs": [
        {
          "output_type": "stream",
          "name": "stdout",
          "text": [
            "2922\n"
          ]
        }
      ],
      "source": [
        "from datetime import datetime\n",
        "\n",
        "дата_начала = \"2009-01-20\"\n",
        "дата_окончания = \"2017-01-20\"\n",
        "\n",
        "дата_начала_президентства = datetime.strptime(дата_начала, '%Y-%m-%d')\n",
        "дата_окончания_президентства = datetime.strptime(дата_окончания, '%Y-%m-%d')\n",
        "\n",
        "количество_дней_президентства = (дата_окончания_президентства - дата_начала_президентства).days\n",
        "\n",
        "print(количество_дней_президентства)"
      ]
    }
  ],
  "metadata": {
    "colab": {
      "provenance": []
    },
    "kernelspec": {
      "display_name": "Python 3 (ipykernel)",
      "language": "python",
      "name": "python3"
    },
    "language_info": {
      "codemirror_mode": {
        "name": "ipython",
        "version": 3
      },
      "file_extension": ".py",
      "mimetype": "text/x-python",
      "name": "python",
      "nbconvert_exporter": "python",
      "pygments_lexer": "ipython3",
      "version": "3.11.7"
    }
  },
  "nbformat": 4,
  "nbformat_minor": 0
}