{
  "cells": [
    {
      "cell_type": "markdown",
      "metadata": {
        "id": "MH-3kVwvJYeP"
      },
      "source": [
        "\n",
        "# 2.1 Быстрое введение. Синтаксические основы языка Python"
      ]
    },
    {
      "cell_type": "markdown",
      "metadata": {
        "id": "gMwyKhlQJ1mf"
      },
      "source": [
        "## Задание 1"
      ]
    },
    {
      "cell_type": "markdown",
      "metadata": {
        "id": "Owu684lKKrjJ"
      },
      "source": [
        "**Условие:**\n",
        "Создайте коллекцию данных типа ```tuple``` из элементов различных типов данных.\n",
        "\n",
        "**Формат ответа:**\n",
        "Кортеж (например, ```(1,'str',2.7)```)"
      ]
    },
    {
      "cell_type": "markdown",
      "metadata": {
        "id": "OCTvo3fHLaaJ"
      },
      "source": [
        "**Решение:**"
      ]
    },
    {
      "cell_type": "code",
      "execution_count": 3,
      "metadata": {
        "id": "f9_8IGndLeRO",
        "colab": {
          "base_uri": "https://localhost:8080/"
        },
        "outputId": "194963bf-8fbb-48f9-e539-ba44b9d81c60"
      },
      "outputs": [
        {
          "output_type": "stream",
          "name": "stdout",
          "text": [
            "(1, 'hello', 3.14, True)\n"
          ]
        }
      ],
      "source": [
        "my_tuple = (1, 'hello', 3.14, True)\n",
        "print(my_tuple)"
      ]
    },
    {
      "cell_type": "markdown",
      "metadata": {
        "id": "g5S0h2-wKfGE"
      },
      "source": [
        "## Задание 2"
      ]
    },
    {
      "cell_type": "markdown",
      "metadata": {
        "id": "orX7BUzcPKKf"
      },
      "source": [
        "**Условие:**\n",
        "Проверьте на истинность выражения :\n",
        "\n",
        "*   ```1 > 2```\n",
        "*   ```3**2 > 2**3```\n",
        "*   ```'a' < 'b'```\n",
        "*   ```'c' < 'b'```\n",
        "*   ```'a' in ['b','a','c']```\n",
        "\n",
        "\n",
        "**Формат ответа:**\n",
        "Кортеж из булевых значений (например, ```(True, False, True,False, True)```)"
      ]
    },
    {
      "cell_type": "markdown",
      "metadata": {
        "id": "ESSLfwqEPKKn"
      },
      "source": [
        "**Решение:**"
      ]
    },
    {
      "cell_type": "code",
      "execution_count": 4,
      "metadata": {
        "colab": {
          "base_uri": "https://localhost:8080/"
        },
        "id": "y8HOlaNLPKKq",
        "outputId": "c07f808f-4c44-4c91-d280-2cd8b408035c"
      },
      "outputs": [
        {
          "output_type": "execute_result",
          "data": {
            "text/plain": [
              "False"
            ]
          },
          "metadata": {},
          "execution_count": 4
        }
      ],
      "source": [
        "'c' < 'b'"
      ]
    },
    {
      "cell_type": "code",
      "execution_count": 5,
      "metadata": {
        "id": "ka93MvOziMOw",
        "colab": {
          "base_uri": "https://localhost:8080/"
        },
        "outputId": "8f31c3df-9b9d-4ee1-944b-48b4a8ae6a5d"
      },
      "outputs": [
        {
          "output_type": "stream",
          "name": "stdout",
          "text": [
            "(False, True, True, False, True)\n"
          ]
        }
      ],
      "source": [
        "expression_1 = 1 > 2\n",
        "expression_2 = 32 > 23\n",
        "expression_3 = 'a' < 'b'\n",
        "expression_4 = 'c' < 'b'\n",
        "expression_5 = 'a' in ['b', 'a', 'c']\n",
        "\n",
        "boolean_tuple = (expression_1, expression_2, expression_3, expression_4, expression_5)\n",
        "\n",
        "print(boolean_tuple)"
      ]
    },
    {
      "cell_type": "markdown",
      "metadata": {
        "id": "tq0Fcrg1KfXQ"
      },
      "source": [
        "## Задание 3"
      ]
    },
    {
      "cell_type": "markdown",
      "metadata": {
        "id": "3xp-jyyHPMIb"
      },
      "source": [
        "**Условие:**\n",
        "Напишите функцию ```f_abs()``` нахождения модуля числа, которая получает на вход число и возвращает его, если оно положительно, иначе возвращает число с обратным знаком.\n",
        "Примените ее к числу ```170**2 - 150**3```.\n",
        "\n",
        "**Формат ответа:**\n",
        "Число (например, ```-20```)\n",
        "\n",
        "**Оценка в баллах:** 4 балла\n"
      ]
    },
    {
      "cell_type": "markdown",
      "metadata": {
        "id": "H5ZlBsI2PMIi"
      },
      "source": [
        "**Решение:**"
      ]
    },
    {
      "cell_type": "code",
      "execution_count": 6,
      "metadata": {
        "id": "6amsYUCoPMIn",
        "colab": {
          "base_uri": "https://localhost:8080/"
        },
        "outputId": "5dc1ffc1-e945-419e-e533-5ae7800746e3"
      },
      "outputs": [
        {
          "output_type": "stream",
          "name": "stdout",
          "text": [
            "199\n"
          ]
        }
      ],
      "source": [
        "def f_abs(number):\n",
        "    if number >= 0:\n",
        "        return number\n",
        "    else:\n",
        "        return -number\n",
        "\n",
        "result = f_abs(1702 - 1503)\n",
        "print(result)"
      ]
    }
  ],
  "metadata": {
    "colab": {
      "provenance": []
    },
    "kernelspec": {
      "display_name": "Python 3 (ipykernel)",
      "language": "python",
      "name": "python3"
    },
    "language_info": {
      "codemirror_mode": {
        "name": "ipython",
        "version": 3
      },
      "file_extension": ".py",
      "mimetype": "text/x-python",
      "name": "python",
      "nbconvert_exporter": "python",
      "pygments_lexer": "ipython3",
      "version": "3.11.7"
    },
    "toc": {
      "base_numbering": 1,
      "nav_menu": {},
      "number_sections": true,
      "sideBar": true,
      "skip_h1_title": false,
      "title_cell": "Table of Contents",
      "title_sidebar": "Contents",
      "toc_cell": false,
      "toc_position": {},
      "toc_section_display": true,
      "toc_window_display": false
    }
  },
  "nbformat": 4,
  "nbformat_minor": 0
}