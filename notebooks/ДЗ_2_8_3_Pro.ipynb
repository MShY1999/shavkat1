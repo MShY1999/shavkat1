{
  "cells": [
    {
      "cell_type": "markdown",
      "metadata": {
        "id": "MH-3kVwvJYeP"
      },
      "source": [
        "# 2.8.3 Объектно-ориентированное программирование как ключевой элемент языка Python"
      ]
    },
    {
      "cell_type": "markdown",
      "metadata": {
        "id": "WS0TXJkOD_Q6"
      },
      "source": [
        "## Задание 1"
      ]
    },
    {
      "cell_type": "markdown",
      "metadata": {
        "id": "vnaW1OUnD_RA"
      },
      "source": [
        "**Условие:** Для класса ```Department``` из задания к занятию 2.8.2 установите все родительские классы. Установите к каким классам относятся атрибуты данных и методы указанного класса.\n"
      ]
    },
    {
      "cell_type": "markdown",
      "metadata": {
        "id": "fgXudiR7D_RC"
      },
      "source": [
        "**Решение:**"
      ]
    },
    {
      "cell_type": "code",
      "execution_count": 1,
      "metadata": {
        "id": "d3EG8Yu9D_RF",
        "outputId": "320baf7a-62e6-4dfb-f2ff-a7a575de5c67",
        "colab": {
          "base_uri": "https://localhost:8080/"
        }
      },
      "outputs": [
        {
          "output_type": "stream",
          "name": "stdout",
          "text": [
            "(<class 'object'>,)\n",
            "Метод: __class__\n",
            "Метод: __delattr__\n",
            "Атрибут данных: __dict__\n",
            "Метод: __dir__\n",
            "Атрибут данных: __doc__\n",
            "Метод: __eq__\n",
            "Метод: __format__\n",
            "Метод: __ge__\n",
            "Метод: __getattribute__\n",
            "Метод: __gt__\n",
            "Метод: __hash__\n",
            "Метод: __init__\n",
            "Метод: __init_subclass__\n",
            "Метод: __le__\n",
            "Метод: __lt__\n",
            "Атрибут данных: __module__\n",
            "Метод: __ne__\n",
            "Метод: __new__\n",
            "Метод: __reduce__\n",
            "Метод: __reduce_ex__\n",
            "Метод: __repr__\n",
            "Метод: __setattr__\n",
            "Метод: __sizeof__\n",
            "Метод: __str__\n",
            "Метод: __subclasshook__\n",
            "Атрибут данных: __weakref__\n",
            "Метод: add_employee\n",
            "Метод: remove_employee\n"
          ]
        }
      ],
      "source": [
        "class Department:\n",
        "    def __init__(self, name, employees):\n",
        "        self.name = name\n",
        "        self.employees = employees\n",
        "\n",
        "    def add_employee(self, employee):\n",
        "        self.employees.append(employee)\n",
        "\n",
        "    def remove_employee(self, employee):\n",
        "        self.employees.remove(employee)\n",
        "\n",
        "# Определение функции для получения всех родительских классов\n",
        "def get_parent_classes(cls):\n",
        "    parents = cls.__bases__\n",
        "    for parent in parents:\n",
        "        parents += get_parent_classes(parent)\n",
        "    return parents\n",
        "\n",
        "# Получение всех родительских классов для класса Department\n",
        "parent_classes = get_parent_classes(Department)\n",
        "print(parent_classes)\n",
        "\n",
        "# Определение классов, к которым относятся атрибуты данных и методы\n",
        "for attr_name in dir(Department):\n",
        "    attr = getattr(Department, attr_name)\n",
        "    if callable(attr):\n",
        "        print(f\"Метод: {attr_name}\")\n",
        "    else:\n",
        "        print(f\"Атрибут данных: {attr_name}\")"
      ]
    }
  ],
  "metadata": {
    "colab": {
      "provenance": []
    },
    "kernelspec": {
      "display_name": "Python 3 (ipykernel)",
      "language": "python",
      "name": "python3"
    },
    "language_info": {
      "codemirror_mode": {
        "name": "ipython",
        "version": 3
      },
      "file_extension": ".py",
      "mimetype": "text/x-python",
      "name": "python",
      "nbconvert_exporter": "python",
      "pygments_lexer": "ipython3",
      "version": "3.11.7"
    }
  },
  "nbformat": 4,
  "nbformat_minor": 0
}