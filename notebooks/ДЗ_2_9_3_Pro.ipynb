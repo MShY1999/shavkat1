{
  "cells": [
    {
      "cell_type": "markdown",
      "metadata": {
        "id": "MH-3kVwvJYeP"
      },
      "source": [
        "\n",
        "# 2.9.3 Обработка строк, регулярные выражения"
      ]
    },
    {
      "cell_type": "markdown",
      "metadata": {
        "id": "gMwyKhlQJ1mf"
      },
      "source": [
        "## Задание 1"
      ]
    },
    {
      "cell_type": "markdown",
      "metadata": {
        "id": "Owu684lKKrjJ"
      },
      "source": [
        "**Условие:**\n",
        "Перевести текст ```_Text_``` в нижний регистр(```str.lower```), подсчитать статистику встречаемости символов(модуль ```collections```), получить лист всех слов(модуль ```re```).\n",
        "\n"
      ]
    },
    {
      "cell_type": "markdown",
      "metadata": {
        "id": "OCTvo3fHLaaJ"
      },
      "source": [
        "**Решение:**"
      ]
    },
    {
      "cell_type": "code",
      "execution_count": 1,
      "metadata": {
        "colab": {
          "base_uri": "https://localhost:8080/"
        },
        "id": "f9_8IGndLeRO",
        "outputId": "91d9840a-2e15-4efd-ec75-6f3e2272207b"
      },
      "outputs": [
        {
          "output_type": "stream",
          "name": "stdout",
          "text": [
            "Текст в нижнем регистре: это пример текста для обработки. здесь есть разные слова, знаки препинания, и пробелы.\n",
            "Статистика встречаемости символов: Counter({' ': 12, 'е': 7, 'р': 6, 'и': 6, 'а': 6, 'т': 5, 'о': 5, 'п': 4, 'с': 4, 'н': 4, 'к': 3, 'л': 3, 'б': 3, 'з': 3, 'д': 2, 'я': 2, '.': 2, 'ь': 2, 'ы': 2, ',': 2, 'э': 1, 'м': 1, 'в': 1})\n",
            "Список всех слов: ['это', 'пример', 'текста', 'для', 'обработки', 'здесь', 'есть', 'разные', 'слова', 'знаки', 'препинания', 'и', 'пробелы']\n"
          ]
        }
      ],
      "source": [
        "import re\n",
        "from collections import Counter\n",
        "\n",
        "text = \"Это пример текста для обработки. Здесь есть разные Слова, знаки препинания, и пробелы.\"\n",
        "\n",
        "# Переводим текст в нижний регистр\n",
        "text_lower = text.lower()\n",
        "\n",
        "# Подсчитываем статистику встречаемости символов\n",
        "symbol_counts = Counter(text_lower)\n",
        "\n",
        "# Получаем список всех слов\n",
        "word_list = re.findall(r'\\b\\w+\\b', text_lower)\n",
        "\n",
        "print(\"Текст в нижнем регистре:\", text_lower)\n",
        "print(\"Статистика встречаемости символов:\", symbol_counts)\n",
        "print(\"Список всех слов:\", word_list)\n"
      ]
    },
    {
      "cell_type": "markdown",
      "metadata": {
        "id": "g5S0h2-wKfGE"
      },
      "source": [
        "## Задание 2"
      ]
    },
    {
      "cell_type": "markdown",
      "metadata": {
        "id": "orX7BUzcPKKf"
      },
      "source": [
        "**Условие:**\n",
        "Напишите функцию, которая просит пользователя ввести название параграфа и страницу, после чего разбирает данную строку и делает красивый форматированный вывод в виде: ```Название параграфа---------12```. Количество знаков ```-``` зависит от ширины поля, заданного в параметрах функции.  \n",
        "\n"
      ]
    },
    {
      "cell_type": "markdown",
      "metadata": {
        "id": "ESSLfwqEPKKn"
      },
      "source": [
        "**Решение:**"
      ]
    },
    {
      "cell_type": "code",
      "execution_count": 2,
      "metadata": {
        "colab": {
          "base_uri": "https://localhost:8080/"
        },
        "id": "y8HOlaNLPKKq",
        "outputId": "73a4f6db-534d-488c-ce4d-71ed3b7a79c2"
      },
      "outputs": [
        {
          "output_type": "stream",
          "name": "stdout",
          "text": [
            "Введите название параграфа: 445\n",
            "Введите номер страницы: 8687\n",
            "445 --         8687. Количество знаков - 12\n"
          ]
        }
      ],
      "source": [
        "def форматированный_вывод(название_параграфа, номер_страницы, ширина_поля):\n",
        "    форматированный_номер = f\"{номер_страницы}\".rjust(ширина_поля)\n",
        "    красивый_вывод = f\"{название_параграфа} -- {форматированный_номер}. Количество знаков - {ширина_поля}\"\n",
        "    return красивый_вывод\n",
        "\n",
        "название_параграфа = input(\"Введите название параграфа: \")\n",
        "номер_страницы = input(\"Введите номер страницы: \")\n",
        "ширина_поля = 12  # задайте ширину поля здесь\n",
        "\n",
        "print(форматированный_вывод(название_параграфа, номер_страницы, ширина_поля))"
      ]
    }
  ],
  "metadata": {
    "colab": {
      "provenance": []
    },
    "kernelspec": {
      "display_name": "Python 3 (ipykernel)",
      "language": "python",
      "name": "python3"
    },
    "language_info": {
      "codemirror_mode": {
        "name": "ipython",
        "version": 3
      },
      "file_extension": ".py",
      "mimetype": "text/x-python",
      "name": "python",
      "nbconvert_exporter": "python",
      "pygments_lexer": "ipython3",
      "version": "3.11.7"
    }
  },
  "nbformat": 4,
  "nbformat_minor": 0
}