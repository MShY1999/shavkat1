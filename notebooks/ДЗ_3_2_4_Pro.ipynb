{
  "cells": [
    {
      "cell_type": "markdown",
      "metadata": {
        "id": "MH-3kVwvJYeP"
      },
      "source": [
        "\n",
        "# 3.2.4 Математические и статистические операции"
      ]
    },
    {
      "cell_type": "markdown",
      "metadata": {
        "id": "gMwyKhlQJ1mf"
      },
      "source": [
        "## Задание 1"
      ]
    },
    {
      "cell_type": "markdown",
      "metadata": {
        "id": "Owu684lKKrjJ"
      },
      "source": [
        "**Условие:**\n",
        "Создайте случайный целочисленный массив ```ndarray``` размера ```(15,15)``` элементов, принадлежащих отрезку ```[1,10]```. С помощью методов булевых массивов найдите количество элементов в полученном массиве, которые являются полными квадратами. Используйте ```np.random.seed(1000)``` перед генерацией массива для воспроизводимости результатов.\n",
        "\n",
        "**Формат ответа:**\n",
        "Число (например, ```4```)\n"
      ]
    },
    {
      "cell_type": "markdown",
      "metadata": {
        "id": "OCTvo3fHLaaJ"
      },
      "source": [
        "**Решение:**"
      ]
    },
    {
      "cell_type": "code",
      "execution_count": null,
      "metadata": {
        "colab": {
          "base_uri": "https://localhost:8080/"
        },
        "id": "f9_8IGndLeRO",
        "outputId": "24c8bc4b-a57f-4031-f1e0-172063670ad6"
      },
      "outputs": [
        {
          "output_type": "stream",
          "name": "stdout",
          "text": [
            "Количество полных квадратов в полученном массиве: 70\n"
          ]
        }
      ],
      "source": [
        "import numpy as np\n",
        "\n",
        "# Устанавливаем seed для воспроизводимости\n",
        "np.random.seed(1000)\n",
        "\n",
        "# Создаем случайный массив размером (15, 15) из элементов в диапазоне [1, 10]\n",
        "arr = np.random.randint(1, 11, (15, 15))\n",
        "\n",
        "# Находим элементы, которые являются полными квадратами\n",
        "is_square = np.sqrt(arr) % 1 == 0\n",
        "\n",
        "# Подсчитываем количество элементов, которые являются полными квадратами\n",
        "count_square_numbers = np.sum(is_square)\n",
        "\n",
        "print(\"Количество полных квадратов в полученном массиве:\", count_square_numbers)\n"
      ]
    },
    {
      "cell_type": "markdown",
      "metadata": {
        "id": "g5S0h2-wKfGE"
      },
      "source": [
        "## Задание 2"
      ]
    },
    {
      "cell_type": "markdown",
      "metadata": {
        "id": "orX7BUzcPKKf"
      },
      "source": [
        "**Условие:**\n",
        "Напишите функцию, которая принимает на вход квадратную матрицу, возводит ее в степень ```100``` и находит ее определитель. Если определитель отличен от нуля, то функция возвращает определитель матрицы, которая является обратной к транспанированной исходной матрице, иначе - ноль. Проверьте работоспособность на матрице, указанной в пункте решение.\n",
        "\n",
        "**Формат ответа:**\n",
        "Число (например, ```2.7```)\n",
        "\n"
      ]
    },
    {
      "cell_type": "markdown",
      "metadata": {
        "id": "ESSLfwqEPKKn"
      },
      "source": [
        "**Решение:**"
      ]
    },
    {
      "cell_type": "code",
      "execution_count": null,
      "metadata": {
        "colab": {
          "base_uri": "https://localhost:8080/"
        },
        "id": "y8HOlaNLPKKq",
        "outputId": "cf6bc2a3-495c-4340-a6b7-bbd94ea897a1"
      },
      "outputs": [
        {
          "output_type": "stream",
          "name": "stdout",
          "text": [
            "Результат работы функции: 4.543616684779427e-40\n"
          ]
        }
      ],
      "source": [
        "_INPUT_MATR_ = np.array([[2,5,7],\n",
        "                        [6,3,4],\n",
        "                        [5,-2,-3]])\n",
        "import numpy as np\n",
        "\n",
        "def process_matrix(matrix):\n",
        "    matrix_power_100 = np.linalg.matrix_power(matrix, 100)\n",
        "    det = np.linalg.det(matrix_power_100)\n",
        "\n",
        "    if det != 0:\n",
        "        inverse_transposed_matrix = np.linalg.inv(matrix_power_100.T)\n",
        "        return np.linalg.det(inverse_transposed_matrix)\n",
        "    else:\n",
        "        return 0\n",
        "\n",
        "# Проверка на указанной матрице из предыдущего примера\n",
        "matrix = np.array([\n",
        "    [5, 0, 3],\n",
        "    [3, 7, 9],\n",
        "    [2, 0, 4]\n",
        "])\n",
        "\n",
        "result = process_matrix(matrix)\n",
        "\n",
        "print(\"Результат работы функции:\", result)"
      ]
    },
    {
      "cell_type": "markdown",
      "metadata": {
        "id": "tq0Fcrg1KfXQ"
      },
      "source": [
        "## Задание 3"
      ]
    },
    {
      "cell_type": "markdown",
      "metadata": {
        "id": "3xp-jyyHPMIb"
      },
      "source": [
        "**Условие:**\n",
        "Создайте два случайных массива длины ```100```, первый из которых является выборкой из нормального распределения, а второй - равномерного распределения на полуинтервале ```[0,1)```. Найдите абсолютные значения разности средних и среднеквадратических отклонений у полученных массивов.\n",
        "\n",
        "**Формат ответа:**\n",
        "Кортеж чисел (например, ```(2.7, 0.0)```)\n",
        "\n",
        "\n"
      ]
    },
    {
      "cell_type": "markdown",
      "metadata": {
        "id": "H5ZlBsI2PMIi"
      },
      "source": [
        "**Решение:**"
      ]
    },
    {
      "cell_type": "code",
      "execution_count": null,
      "metadata": {
        "colab": {
          "base_uri": "https://localhost:8080/"
        },
        "id": "6amsYUCoPMIn",
        "outputId": "93b9d17f-8acc-4a2a-a481-592a62ca222b"
      },
      "outputs": [
        {
          "output_type": "stream",
          "name": "stdout",
          "text": [
            "Абсолютная разность средних значений: 0.46587997523261443\n",
            "Абсолютная разность среднеквадратических отклонений: 0.686335223874882\n"
          ]
        }
      ],
      "source": [
        "\n",
        "import numpy as np\n",
        "\n",
        "# Создаем выборку из нормального распределения\n",
        "array_normal = np.random.normal(loc=0, scale=1, size=100)\n",
        "\n",
        "# Создаем выборку из равномерного распределения на полуинтервале [0,1)\n",
        "array_uniform = np.random.uniform(low=0, high=1, size=100)\n",
        "\n",
        "# Находим средние значения\n",
        "mean_normal = np.mean(array_normal)\n",
        "mean_uniform = np.mean(array_uniform)\n",
        "\n",
        "# Находим среднеквадратические отклонения\n",
        "std_normal = np.std(array_normal)\n",
        "std_uniform = np.std(array_uniform)\n",
        "\n",
        "# Находим абсолютные значения разности средних и среднеквадратических отклонений\n",
        "diff_mean = np.abs(mean_normal - mean_uniform)\n",
        "diff_std = np.abs(std_normal - std_uniform)\n",
        "\n",
        "print(\"Абсолютная разность средних значений:\", diff_mean)\n",
        "print(\"Абсолютная разность среднеквадратических отклонений:\", diff_std)"
      ]
    }
  ],
  "metadata": {
    "colab": {
      "provenance": []
    },
    "kernelspec": {
      "display_name": "Python 3 (ipykernel)",
      "language": "python",
      "name": "python3"
    },
    "language_info": {
      "codemirror_mode": {
        "name": "ipython",
        "version": 3
      },
      "file_extension": ".py",
      "mimetype": "text/x-python",
      "name": "python",
      "nbconvert_exporter": "python",
      "pygments_lexer": "ipython3",
      "version": "3.11.7"
    }
  },
  "nbformat": 4,
  "nbformat_minor": 0
}