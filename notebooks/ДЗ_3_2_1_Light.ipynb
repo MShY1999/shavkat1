{
  "cells": [
    {
      "cell_type": "markdown",
      "metadata": {
        "id": "MH-3kVwvJYeP"
      },
      "source": [
        "\n",
        "# 3.2.1 Быстрые поэлементные операции над массивами"
      ]
    },
    {
      "cell_type": "markdown",
      "metadata": {
        "id": "gMwyKhlQJ1mf"
      },
      "source": [
        "## Задание 1"
      ]
    },
    {
      "cell_type": "markdown",
      "metadata": {
        "id": "Owu684lKKrjJ"
      },
      "source": [
        "**Условие:**\n",
        "Создайте два произвольных целочисленных массива ```ndarray``` длины ```10``` и найдите поэлементную сумму их значений. Среди полученных значений найдите максимальное с использованием функции ```np.max()```.\n",
        "\n",
        "**Формат ответа:**\n",
        "Число (например, ```150```)\n"
      ]
    },
    {
      "cell_type": "markdown",
      "metadata": {
        "id": "OCTvo3fHLaaJ"
      },
      "source": [
        "**Решение:**"
      ]
    },
    {
      "cell_type": "code",
      "execution_count": 1,
      "metadata": {
        "colab": {
          "base_uri": "https://localhost:8080/"
        },
        "id": "f9_8IGndLeRO",
        "outputId": "5778d916-6e2d-41c0-aaab-ea1237af09de"
      },
      "outputs": [
        {
          "output_type": "stream",
          "name": "stdout",
          "text": [
            "Поэлементная сумма массивов: [11 11 11 11 11 11 11 11 11 11]\n",
            "Максимальное значение поэлементной суммы: 11\n"
          ]
        }
      ],
      "source": [
        "import numpy as np\n",
        "\n",
        "# Создание двух произвольных массивов ndarray длины 10\n",
        "array1 = np.array([1, 2, 3, 4, 5, 6, 7, 8, 9, 10])\n",
        "array2 = np.array([10, 9, 8, 7, 6, 5, 4, 3, 2, 1])\n",
        "\n",
        "# Нахождение поэлементной суммы их значений\n",
        "сумма = array1 + array2\n",
        "\n",
        "# Нахождение максимального значения среди полученных\n",
        "максимальное_значение = np.max(сумма)\n",
        "\n",
        "print(\"Поэлементная сумма массивов:\", сумма)\n",
        "print(\"Максимальное значение поэлементной суммы:\", максимальное_значение)"
      ]
    },
    {
      "cell_type": "markdown",
      "metadata": {
        "id": "g5S0h2-wKfGE"
      },
      "source": [
        "## Задание 2"
      ]
    },
    {
      "cell_type": "markdown",
      "metadata": {
        "id": "orX7BUzcPKKf"
      },
      "source": [
        "**Условие:**\n",
        "Создайте произвольный массив ```ndarray``` из 10 элементов типа ```float16```. Присутствие ненулевых дробных частей у элементов обязательно. С использованием методов ```numpy``` отделите дробные части элементов и найдите среди них максимальное значение.\n",
        "\n",
        "**Формат ответа:**\n",
        "Число (например, ```0.82```)\n",
        "\n"
      ]
    },
    {
      "cell_type": "markdown",
      "metadata": {
        "id": "ESSLfwqEPKKn"
      },
      "source": [
        "**Решение:**"
      ]
    },
    {
      "cell_type": "code",
      "execution_count": 2,
      "metadata": {
        "colab": {
          "base_uri": "https://localhost:8080/"
        },
        "id": "y8HOlaNLPKKq",
        "outputId": "0a213a87-7f01-4879-cfbc-a421c8696c9b"
      },
      "outputs": [
        {
          "output_type": "stream",
          "name": "stdout",
          "text": [
            "Отделенные дробные части элементов: [0.1406 0.25   0.7812 0.3086 0.4297 0.8906 0.1211 0.758  0.2305 0.75  ]\n",
            "Максимальное значение среди дробных частей: 0.8906\n"
          ]
        }
      ],
      "source": [
        "import numpy as np\n",
        "\n",
        "# Создание произвольного массива ndarray из 10 элементов типа float16\n",
        "arr = np.array([3.14, 2.25, 6.78, 4.31, 9.43, 7.89, 5.12, 8.76, 1.23, 0.75], dtype=np.float16)\n",
        "\n",
        "# Отделение дробных частей элементов\n",
        "дробные_части = arr - np.floor(arr)\n",
        "\n",
        "# Нахождение максимального значения среди дробных частей\n",
        "максимальное_значение = np.max(дробные_части)\n",
        "\n",
        "print(\"Отделенные дробные части элементов:\", дробные_части)\n",
        "print(\"Максимальное значение среди дробных частей:\", максимальное_значение)"
      ]
    },
    {
      "cell_type": "markdown",
      "metadata": {
        "id": "tq0Fcrg1KfXQ"
      },
      "source": [
        "## Задание 3"
      ]
    },
    {
      "cell_type": "markdown",
      "metadata": {
        "id": "3xp-jyyHPMIb"
      },
      "source": [
        "**Условие:**\n",
        "Создайте два произвольных целочисленных массива ```ndarray``` длины ```10``` и найдите количество позиций, в которых значения массивов не совпадают при поэлементном сравнивании.\n",
        "\n",
        "**Формат ответа:**\n",
        "Число (например, ```5```)\n",
        "\n",
        "\n"
      ]
    },
    {
      "cell_type": "markdown",
      "metadata": {
        "id": "H5ZlBsI2PMIi"
      },
      "source": [
        "**Решение:**"
      ]
    },
    {
      "cell_type": "code",
      "execution_count": 3,
      "metadata": {
        "colab": {
          "base_uri": "https://localhost:8080/"
        },
        "id": "6amsYUCoPMIn",
        "outputId": "f21abb4d-933a-448e-b9fd-2941f51ad059"
      },
      "outputs": [
        {
          "output_type": "stream",
          "name": "stdout",
          "text": [
            "Позиции, в которых значения массивов не совпадают: [False False False False  True False False False False False]\n",
            "Количество позиций с несовпадающими значениями: 1\n"
          ]
        }
      ],
      "source": [
        "import numpy as np\n",
        "\n",
        "# Создание двух произвольных массивов ndarray длины 10\n",
        "array1 = np.array([1, 2, 3, 4, 5, 6, 7, 8, 9, 10])\n",
        "array2 = np.array([1, 2, 3, 4, 0, 6, 7, 8, 9, 10])\n",
        "\n",
        "# Поэлементное сравнение массивов\n",
        "сравнение = (array1 != array2)\n",
        "\n",
        "# Нахождение количества позиций, в которых значения массивов не совпадают\n",
        "количество_несовпадений = np.count_nonzero(сравнение)\n",
        "\n",
        "print(\"Позиции, в которых значения массивов не совпадают:\", сравнение)\n",
        "print(\"Количество позиций с несовпадающими значениями:\", количество_несовпадений)"
      ]
    }
  ],
  "metadata": {
    "colab": {
      "provenance": []
    },
    "kernelspec": {
      "display_name": "Python 3 (ipykernel)",
      "language": "python",
      "name": "python3"
    },
    "language_info": {
      "codemirror_mode": {
        "name": "ipython",
        "version": 3
      },
      "file_extension": ".py",
      "mimetype": "text/x-python",
      "name": "python",
      "nbconvert_exporter": "python",
      "pygments_lexer": "ipython3",
      "version": "3.11.7"
    }
  },
  "nbformat": 4,
  "nbformat_minor": 0
}