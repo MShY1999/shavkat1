{
  "cells": [
    {
      "cell_type": "markdown",
      "metadata": {
        "id": "MH-3kVwvJYeP"
      },
      "source": [
        "# 2.9.2 Работа с аргументами командной строки, время и дата"
      ]
    },
    {
      "cell_type": "markdown",
      "metadata": {
        "id": "gMwyKhlQJ1mf"
      },
      "source": [
        "## Задание 1"
      ]
    },
    {
      "cell_type": "markdown",
      "metadata": {
        "id": "Owu684lKKrjJ"
      },
      "source": [
        "**Условие:**\n",
        "Методами библиотеки ```datetime``` найти количество високосных годов с начала Unix эпохи и по настоящий момент.\n",
        "\n",
        "**Формат ответа:**\n",
        "Число (например, ```2```)\n"
      ]
    },
    {
      "cell_type": "markdown",
      "metadata": {
        "id": "OCTvo3fHLaaJ"
      },
      "source": [
        "**Решение:**"
      ]
    },
    {
      "cell_type": "code",
      "execution_count": 1,
      "metadata": {
        "id": "f9_8IGndLeRO",
        "outputId": "0e7ec976-88d7-4565-f495-5aecf6398967",
        "colab": {
          "base_uri": "https://localhost:8080/"
        }
      },
      "outputs": [
        {
          "output_type": "stream",
          "name": "stdout",
          "text": [
            "14\n"
          ]
        }
      ],
      "source": [
        "from datetime import datetime\n",
        "\n",
        "начало_эпохи = datetime(1970, 1, 1)\n",
        "сейчас = datetime.now()\n",
        "\n",
        "количество_високосных_лет = 0\n",
        "for год in range(начало_эпохи.year, сейчас.year+1):\n",
        "    if год % 4 == 0 and (год % 100 != 0 or год % 400 == 0):\n",
        "        количество_високосных_лет += 1\n",
        "\n",
        "print(количество_високосных_лет)"
      ]
    },
    {
      "cell_type": "markdown",
      "metadata": {
        "id": "g5S0h2-wKfGE"
      },
      "source": [
        "## Задание 2"
      ]
    },
    {
      "cell_type": "markdown",
      "metadata": {
        "id": "orX7BUzcPKKf"
      },
      "source": [
        "**Условие:**\n",
        "Методами библиотеки ```datetime``` найдите название дня недели, в который вы родились. Посчитайте также количество секунд, которые вы провели на этой планете до ```01.01.2020```.\n",
        "\n",
        "**Формат ответа:** кортеж (например, ```('monday',123213875)```)\n"
      ]
    },
    {
      "cell_type": "markdown",
      "metadata": {
        "id": "ESSLfwqEPKKn"
      },
      "source": [
        "**Решение:**"
      ]
    },
    {
      "cell_type": "code",
      "execution_count": 2,
      "metadata": {
        "id": "y8HOlaNLPKKq",
        "outputId": "2f789e90-0679-4286-e61f-8d2af52c35c4",
        "colab": {
          "base_uri": "https://localhost:8080/"
        }
      },
      "outputs": [
        {
          "output_type": "stream",
          "name": "stdout",
          "text": [
            "День недели рождения: Tuesday\n",
            "Количество проведенных секунд до 01.01.2020: 935107200.0\n"
          ]
        }
      ],
      "source": [
        "from datetime import datetime, timedelta\n",
        "\n",
        "# Дата вашего рождения\n",
        "дата_рождения = \"1990-05-15\"\n",
        "\n",
        "# Находим название дня недели, в который вы родились\n",
        "день_недели = datetime.strptime(дата_рождения, '%Y-%m-%d').strftime('%A')\n",
        "\n",
        "# Рассчитываем количество секунд до 01.01.2020\n",
        "дата_рождения = datetime.strptime(дата_рождения, '%Y-%m-%d')\n",
        "дата_2020 = datetime(2020, 1, 1)\n",
        "\n",
        "проведенное_время = дата_2020 - дата_рождения\n",
        "количество_секунд = проведенное_время.total_seconds()\n",
        "\n",
        "print(\"День недели рождения:\", день_недели)\n",
        "print(\"Количество проведенных секунд до 01.01.2020:\", количество_секунд)\n"
      ]
    }
  ],
  "metadata": {
    "colab": {
      "provenance": []
    },
    "kernelspec": {
      "display_name": "Python 3 (ipykernel)",
      "language": "python",
      "name": "python3"
    },
    "language_info": {
      "codemirror_mode": {
        "name": "ipython",
        "version": 3
      },
      "file_extension": ".py",
      "mimetype": "text/x-python",
      "name": "python",
      "nbconvert_exporter": "python",
      "pygments_lexer": "ipython3",
      "version": "3.11.7"
    }
  },
  "nbformat": 4,
  "nbformat_minor": 0
}