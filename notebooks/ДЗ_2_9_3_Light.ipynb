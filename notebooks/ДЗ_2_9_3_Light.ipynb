{
  "cells": [
    {
      "cell_type": "markdown",
      "metadata": {
        "id": "MH-3kVwvJYeP"
      },
      "source": [
        "# 2.9.3 Обработка строк, регулярные выражения"
      ]
    },
    {
      "cell_type": "markdown",
      "metadata": {
        "id": "gMwyKhlQJ1mf"
      },
      "source": [
        "## Задание 1"
      ]
    },
    {
      "cell_type": "markdown",
      "metadata": {
        "id": "Owu684lKKrjJ"
      },
      "source": [
        "**Условие:**\n",
        "Напишите функцию, которая просит пользователя ввести фамилию и имя, а потом возвращает отформатированное личное приветствие: по центру с шириной 70 знаков, обрамленное с обоих сторон символом ```=```. Не претендуя на звание самого красивого вывода, данные требования к стилю можно и нужно поменять.\n",
        "\n"
      ]
    },
    {
      "cell_type": "markdown",
      "metadata": {
        "id": "OCTvo3fHLaaJ"
      },
      "source": [
        "**Решение:**"
      ]
    },
    {
      "cell_type": "code",
      "execution_count": null,
      "metadata": {
        "colab": {
          "base_uri": "https://localhost:8080/"
        },
        "id": "f9_8IGndLeRO",
        "outputId": "51ad4df7-40e1-4046-c885-d550b054555d"
      },
      "outputs": [
        {
          "output_type": "stream",
          "name": "stdout",
          "text": [
            "Введите вашу фамилию: 44\n",
            "Введите ваше имя: 45\n",
            "=================================== 44 45 ===================================\n"
          ]
        }
      ],
      "source": [
        "def личное_приветствие():\n",
        "    фамилия = input(\"Введите вашу фамилию: \")\n",
        "    имя = input(\"Введите ваше имя: \")\n",
        "    приветствие = f'{\"=\"*35} {фамилия} {имя} {\"=\"*35}'\n",
        "    отформатированное_приветствие = приветствие.center(70, '=')\n",
        "    return отформатированное_приветствие\n",
        "\n",
        "print(личное_приветствие())"
      ]
    },
    {
      "cell_type": "markdown",
      "metadata": {
        "id": "g5S0h2-wKfGE"
      },
      "source": [
        "## Задание 2"
      ]
    },
    {
      "cell_type": "markdown",
      "metadata": {
        "id": "orX7BUzcPKKf"
      },
      "source": [
        "**Условие:**\n",
        "Используя регулярные выражения найдите все числовые значения из текста решения.\n",
        "\n",
        "\n",
        "\n"
      ]
    },
    {
      "cell_type": "markdown",
      "metadata": {
        "id": "ESSLfwqEPKKn"
      },
      "source": [
        "**Решение:**"
      ]
    },
    {
      "cell_type": "code",
      "execution_count": 1,
      "metadata": {
        "colab": {
          "base_uri": "https://localhost:8080/"
        },
        "id": "y8HOlaNLPKKq",
        "outputId": "7681d642-ad3b-484e-b170-a76d30f8a898"
      },
      "outputs": [
        {
          "output_type": "stream",
          "name": "stdout",
          "text": [
            "['2', '2', '1', '0', '0', '1.']\n"
          ]
        }
      ],
      "source": [
        "import re\n",
        "\n",
        "текст_решения = \"В уравнении x^2 + 2x + 1 = 0, дискриминант равен 0, а корень x = -1.\"\n",
        "числовые_значения = re.findall(r'\\d+\\.?\\d*', текст_решения)\n",
        "\n",
        "print(числовые_значения)\n"
      ]
    }
  ],
  "metadata": {
    "colab": {
      "provenance": []
    },
    "kernelspec": {
      "display_name": "Python 3 (ipykernel)",
      "language": "python",
      "name": "python3"
    },
    "language_info": {
      "codemirror_mode": {
        "name": "ipython",
        "version": 3
      },
      "file_extension": ".py",
      "mimetype": "text/x-python",
      "name": "python",
      "nbconvert_exporter": "python",
      "pygments_lexer": "ipython3",
      "version": "3.11.7"
    }
  },
  "nbformat": 4,
  "nbformat_minor": 0
}