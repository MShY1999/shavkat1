{
  "cells": [
    {
      "cell_type": "markdown",
      "metadata": {
        "id": "MH-3kVwvJYeP"
      },
      "source": [
        "# 2.9.4 Форматы файлов, кодировки и сохранение данных. Работа с файлами и каталогами"
      ]
    },
    {
      "cell_type": "markdown",
      "metadata": {
        "id": "gMwyKhlQJ1mf"
      },
      "source": [
        "## Задание 1"
      ]
    },
    {
      "cell_type": "markdown",
      "metadata": {
        "id": "Owu684lKKrjJ"
      },
      "source": [
        "**Условие:**\n",
        "Напишите собственный класс с несколькими атрибутами данных, создайте его экземпляр и запишите данный экземпляр класса в файл с использованием библиотеки ```pickle```. Считайте экземпляр из файла и проверьте его атрибуты.\n",
        "\n"
      ]
    },
    {
      "cell_type": "markdown",
      "metadata": {
        "id": "OCTvo3fHLaaJ"
      },
      "source": [
        "**Решение:**"
      ]
    },
    {
      "cell_type": "code",
      "execution_count": null,
      "metadata": {
        "colab": {
          "base_uri": "https://localhost:8080/"
        },
        "id": "f9_8IGndLeRO",
        "outputId": "de60ba96-899b-4ea5-cde4-a44d8121e5e4"
      },
      "outputs": [
        {
          "output_type": "stream",
          "name": "stdout",
          "text": [
            "Анна\n",
            "25\n"
          ]
        }
      ],
      "source": [
        "import pickle\n",
        "\n",
        "# Создание собственного класса\n",
        "class МойКласс:\n",
        "    def __init__(self, имя, возраст):\n",
        "        self.имя = имя\n",
        "        self.возраст = возраст\n",
        "\n",
        "# Создание экземпляра класса\n",
        "экземпляр_класса = МойКласс(\"Анна\", 25)\n",
        "\n",
        "# Запись экземпляра класса в файл с использованием pickle\n",
        "with open('экземпляр.pkl', 'wb') as файл:\n",
        "    pickle.dump(экземпляр_класса, файл)\n",
        "\n",
        "# Считывание экземпляра из файла\n",
        "with open('экземпляр.pkl', 'rb') as файл:\n",
        "    загруженный_экземпляр = pickle.load(файл)\n",
        "\n",
        "# Проверка атрибутов экземпляра\n",
        "print(загруженный_экземпляр.имя)\n",
        "print(загруженный_экземпляр.возраст)"
      ]
    },
    {
      "cell_type": "markdown",
      "metadata": {
        "id": "g5S0h2-wKfGE"
      },
      "source": [
        "## Задание 2"
      ]
    },
    {
      "cell_type": "markdown",
      "metadata": {
        "id": "orX7BUzcPKKf"
      },
      "source": [
        "**Условие:**\n",
        "\n",
        "Методами модуля ```os``` cоставить статистику размера файлов ```*.csv``` папки ```sample_data``` из Google Colab. Составить словарь\n",
        "\n",
        "```\n",
        "size_dict = {'filename.csv':filename_size}\n",
        "```\n",
        "\n",
        "\n",
        "*   ```filename.csv``` - имя файла\n",
        "*   ```filename_size``` - размер файла\n",
        "\n",
        "\n"
      ]
    },
    {
      "cell_type": "markdown",
      "metadata": {
        "id": "ESSLfwqEPKKn"
      },
      "source": [
        "**Решение:**"
      ]
    },
    {
      "cell_type": "code",
      "execution_count": 1,
      "metadata": {
        "colab": {
          "base_uri": "https://localhost:8080/"
        },
        "id": "y8HOlaNLPKKq",
        "outputId": "75d46d0f-25eb-48c6-8bf6-c61d0b6dcc79"
      },
      "outputs": [
        {
          "output_type": "stream",
          "name": "stdout",
          "text": [
            "{'mnist_train_small.csv': 36523880, 'california_housing_train.csv': 1706430, 'mnist_test.csv': 18289443, 'california_housing_test.csv': 301141}\n"
          ]
        }
      ],
      "source": [
        "\n",
        "import os\n",
        "\n",
        "путь_к_папке = '/content/sample_data'\n",
        "csv_файлы = [файл for файл in os.listdir(путь_к_папке) if файл.endswith(\".csv\")]\n",
        "\n",
        "size_dict = {}\n",
        "\n",
        "for файл in csv_файлы:\n",
        "    размер = os.path.getsize(os.path.join(путь_к_папке, файл))\n",
        "    size_dict[файл] = размер\n",
        "\n",
        "print(size_dict)"
      ]
    }
  ],
  "metadata": {
    "colab": {
      "provenance": []
    },
    "kernelspec": {
      "display_name": "Python 3 (ipykernel)",
      "language": "python",
      "name": "python3"
    },
    "language_info": {
      "codemirror_mode": {
        "name": "ipython",
        "version": 3
      },
      "file_extension": ".py",
      "mimetype": "text/x-python",
      "name": "python",
      "nbconvert_exporter": "python",
      "pygments_lexer": "ipython3",
      "version": "3.11.7"
    }
  },
  "nbformat": 4,
  "nbformat_minor": 0
}