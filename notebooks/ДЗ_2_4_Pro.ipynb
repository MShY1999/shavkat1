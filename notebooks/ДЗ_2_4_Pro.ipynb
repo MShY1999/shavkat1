{
  "cells": [
    {
      "cell_type": "markdown",
      "metadata": {
        "id": "MH-3kVwvJYeP"
      },
      "source": [
        "# 2.4 Управляющие структуры. Условные ветвления и циклы"
      ]
    },
    {
      "cell_type": "markdown",
      "metadata": {
        "id": "gMwyKhlQJ1mf"
      },
      "source": [
        "## Задание 1"
      ]
    },
    {
      "cell_type": "markdown",
      "metadata": {
        "id": "Owu684lKKrjJ"
      },
      "source": [
        "Вычислить приблизительное значение экспоненциальной функции с использованием ряда Тейлора:\n",
        "$$\n",
        "e^x=\\sum_{n=0}^{100} {\\frac {x^n} {n!}}.\n",
        "$$\n",
        "Найдите значение $e^{20}$, округленное до 5 знаков после запятой.\n",
        "\n",
        "**Формат ответа:**\n",
        "Число (например, ```3213156.11234```)"
      ]
    },
    {
      "cell_type": "markdown",
      "metadata": {
        "id": "OCTvo3fHLaaJ"
      },
      "source": [
        "**Решение:**"
      ]
    },
    {
      "cell_type": "code",
      "execution_count": 1,
      "metadata": {
        "id": "f9_8IGndLeRO",
        "colab": {
          "base_uri": "https://localhost:8080/"
        },
        "outputId": "73361f2a-12ab-46e8-de21-f6afc8136038"
      },
      "outputs": [
        {
          "output_type": "execute_result",
          "data": {
            "text/plain": [
              "485165195.40979"
            ]
          },
          "metadata": {},
          "execution_count": 1
        }
      ],
      "source": [
        "import math\n",
        "\n",
        "def exponential_taylor(x, n):\n",
        "    result = 0\n",
        "    for i in range(n):\n",
        "        result += x**i / math.factorial(i)\n",
        "    return result\n",
        "\n",
        "x = 20\n",
        "n = 100\n",
        "result = exponential_taylor(x, n)\n",
        "rounded_result = round(result, 5)\n",
        "rounded_result\n"
      ]
    },
    {
      "cell_type": "markdown",
      "metadata": {
        "id": "g5S0h2-wKfGE"
      },
      "source": [
        "## Задание 2"
      ]
    },
    {
      "cell_type": "markdown",
      "metadata": {
        "id": "orX7BUzcPKKf"
      },
      "source": [
        "**Условие:**\n",
        "Найдите среднее арифметическое всех **простых** делителей числа $n$, заданного пользователем. Дайте ответ для $n = 125632$. Требуется сперва получить лист делителей, а потом уже найти среднее арифметическое.\n",
        "\n",
        "**Формат ответа:** Число (например, ```2112.87```)"
      ]
    },
    {
      "cell_type": "markdown",
      "metadata": {
        "id": "ESSLfwqEPKKn"
      },
      "source": [
        "**Решение:**"
      ]
    },
    {
      "cell_type": "code",
      "execution_count": 2,
      "metadata": {
        "id": "y8HOlaNLPKKq",
        "colab": {
          "base_uri": "https://localhost:8080/"
        },
        "outputId": "5aa2d19e-0c3a-4f6f-86db-dc0f79545a1d"
      },
      "outputs": [
        {
          "output_type": "stream",
          "name": "stdout",
          "text": [
            "22.0\n"
          ]
        }
      ],
      "source": [
        "def get_prime_divisors(n):\n",
        "    divisors = []\n",
        "    i = 2\n",
        "    while i * i <= n:\n",
        "        if n % i:\n",
        "            i += 1\n",
        "        else:\n",
        "            n //= i\n",
        "            divisors.append(i)\n",
        "    if n > 1:\n",
        "        divisors.append(n)\n",
        "    return divisors\n",
        "\n",
        "n = 125632\n",
        "prime_divisors = get_prime_divisors(n)\n",
        "\n",
        "average = sum(prime_divisors) / len(prime_divisors)\n",
        "print(round(average, 2))"
      ]
    },
    {
      "cell_type": "markdown",
      "metadata": {
        "id": "tq0Fcrg1KfXQ"
      },
      "source": [
        "## Задание 3"
      ]
    },
    {
      "cell_type": "markdown",
      "metadata": {
        "id": "3xp-jyyHPMIb"
      },
      "source": [
        "**Условие:** Создайте игру, в которой пользователь должен угадать заранее случайным образом выбранное целое число от 1 до 100. В случае неправильного ответа программа должна делать подсказки вида: это число меньше(больше), чем загаданное.  Используйте модуль ```random``` и цикл ```while```. Не забудьте поставить условие выхода, например, при вводе символа *. Сыграйте с машиной в эту игру 3 раза(в каждой игре до выигрыша) и укажите среднее значение попыток до успешного угадывания.\n",
        "\n",
        "**Формат ответа:** Число (например, ```8```)"
      ]
    },
    {
      "cell_type": "markdown",
      "metadata": {
        "id": "H5ZlBsI2PMIi"
      },
      "source": [
        "**Решение:**"
      ]
    },
    {
      "cell_type": "code",
      "execution_count": null,
      "metadata": {
        "id": "6amsYUCoPMIn",
        "colab": {
          "base_uri": "https://localhost:8080/"
        },
        "outputId": "2e2b23b3-6269-4d6b-c80a-304e3ddff9f0"
      },
      "outputs": [
        {
          "output_type": "stream",
          "name": "stdout",
          "text": [
            "Угадайте число от 1 до 100 (или введите * для выхода): 4\n",
            "Загаданное число больше.\n",
            "Угадайте число от 1 до 100 (или введите * для выхода): 5\n",
            "Загаданное число больше.\n",
            "Угадайте число от 1 до 100 (или введите * для выхода): 4\n",
            "Загаданное число больше.\n",
            "Угадайте число от 1 до 100 (или введите * для выхода): 4\n",
            "Загаданное число больше.\n",
            "Угадайте число от 1 до 100 (или введите * для выхода): 45456\n",
            "Загаданное число меньше.\n",
            "Угадайте число от 1 до 100 (или введите * для выхода): 456876\n",
            "Загаданное число меньше.\n",
            "Угадайте число от 1 до 100 (или введите * для выхода): 6876\n",
            "Загаданное число меньше.\n",
            "Угадайте число от 1 до 100 (или введите * для выхода): 763\n",
            "Загаданное число меньше.\n",
            "Угадайте число от 1 до 100 (или введите * для выхода): 6786\n",
            "Загаданное число меньше.\n",
            "Угадайте число от 1 до 100 (или введите * для выхода): 576\n",
            "Загаданное число меньше.\n",
            "Угадайте число от 1 до 100 (или введите * для выхода): 676\n",
            "Загаданное число меньше.\n"
          ]
        }
      ],
      "source": [
        "import random\n",
        "\n",
        "def guess_number():\n",
        "    target_number = random.randint(1, 100)\n",
        "    attempts = 0\n",
        "    while True:\n",
        "        user_guess = input(\"Угадайте число от 1 до 100 (или введите * для выхода): \")\n",
        "        if user_guess == '*':\n",
        "            print(\"Игра завершена. Загаданное число было:\", target_number)\n",
        "            break\n",
        "        try:\n",
        "            user_guess = int(user_guess)\n",
        "            attempts += 1\n",
        "            if user_guess < target_number:\n",
        "                print(\"Загаданное число больше.\")\n",
        "            elif user_guess > target_number:\n",
        "                print(\"Загаданное число меньше.\")\n",
        "            else:\n",
        "                print(\"Поздравляем! Вы угадали число за\", attempts, \"попыток.\")\n",
        "                break\n",
        "        except ValueError:\n",
        "            print(\"Пожалуйста, введите целое число.\")\n",
        "\n",
        "attempts_list = []\n",
        "for _ in range(3):\n",
        "    guess_number()\n",
        "    attempts_list.append(attempts)\n",
        "\n",
        "average_attempts = sum(attempts_list) / len(attempts_list)\n",
        "print(\"Среднее количество попыток до успешного угадывания:\", round(average_attempts, 2))"
      ]
    }
  ],
  "metadata": {
    "colab": {
      "provenance": []
    },
    "kernelspec": {
      "display_name": "Python 3 (ipykernel)",
      "language": "python",
      "name": "python3"
    },
    "language_info": {
      "codemirror_mode": {
        "name": "ipython",
        "version": 3
      },
      "file_extension": ".py",
      "mimetype": "text/x-python",
      "name": "python",
      "nbconvert_exporter": "python",
      "pygments_lexer": "ipython3",
      "version": "3.11.7"
    }
  },
  "nbformat": 4,
  "nbformat_minor": 0
}