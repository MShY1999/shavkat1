{
  "cells": [
    {
      "cell_type": "markdown",
      "metadata": {
        "id": "MH-3kVwvJYeP"
      },
      "source": [
        "# 2.8.2 Создание собственных классов"
      ]
    },
    {
      "cell_type": "markdown",
      "metadata": {
        "id": "gMwyKhlQJ1mf"
      },
      "source": [
        "## Задание 1"
      ]
    },
    {
      "cell_type": "markdown",
      "metadata": {
        "id": "Owu684lKKrjJ"
      },
      "source": [
        "**Условие:** Создайте собственный класс ```Person``` работника компании. Добавьте следующие атрибуты данных, использую конструктор ```__init__```:\n",
        "\n",
        "*   ```name```(фамилия)\n",
        "*   ```job```(должность)\n",
        "*   ```pai```(зарплата)\n",
        "\n",
        "Создайте метод класса ```person_raise(self, prcnt)```, который повышает зарплату на ```prcnt``` процентов от имеющегося значения. Создайте работника и выведите кортеж с 2мя значениями: (зарплата при создании работника, зарплата после повышения на 20%)\n",
        "\n",
        "**Формат ответа:** кортеж (например, ```(150, 200)```)\n"
      ]
    },
    {
      "cell_type": "markdown",
      "metadata": {
        "id": "OCTvo3fHLaaJ"
      },
      "source": [
        "**Решение:**"
      ]
    },
    {
      "cell_type": "code",
      "execution_count": null,
      "metadata": {
        "colab": {
          "base_uri": "https://localhost:8080/"
        },
        "id": "f9_8IGndLeRO",
        "outputId": "a8804e7a-d64d-4ac1-ec4a-c33f0b03316b"
      },
      "outputs": [
        {
          "output_type": "stream",
          "name": "stdout",
          "text": [
            "(50000, 60000.0)\n"
          ]
        }
      ],
      "source": [
        "class Person:\n",
        "    def __init__(self, name, job, pay):\n",
        "        self.name = name\n",
        "        self.job = job\n",
        "        self.pay = pay\n",
        "\n",
        "    def person_raise(self, prcnt):\n",
        "        self.pay += self.pay * prcnt / 100\n",
        "\n",
        "# Создание работника\n",
        "employee = Person(\"Иванов\", \"Программист\", 50000)\n",
        "\n",
        "# Вывод зарплаты до и после повышения на 20%\n",
        "initial_pay = employee.pay\n",
        "employee.person_raise(20)\n",
        "new_pay = employee.pay\n",
        "\n",
        "print((initial_pay, new_pay))"
      ]
    },
    {
      "cell_type": "markdown",
      "metadata": {
        "id": "g5S0h2-wKfGE"
      },
      "source": [
        "## Задание 2"
      ]
    },
    {
      "cell_type": "markdown",
      "metadata": {
        "id": "orX7BUzcPKKf"
      },
      "source": [
        "**Условие:** Создайте класс ```Manager``` наследника класса ```Person```, который имеет дополнительный атрибут данных ```client_counts```(количество клиентов). В классе ```Manager``` создайте метод ```manager_raise()```, который\n",
        "увеличивает количество клиентов менеджера на 1 и зарплату менеджера на 1%. Выведите кортеж с 2мя значениями: (зарплата менеджера при создании, зарплата после добавления 10 клиентов). Замечание: зарплата менеджера должна быть повышена с использованием методов наследуемого класса.\n",
        "\n",
        "**Формат ответа:** кортеж (например, ```(150, 170)```)\n"
      ]
    },
    {
      "cell_type": "markdown",
      "metadata": {
        "id": "ESSLfwqEPKKn"
      },
      "source": [
        "**Решение:**"
      ]
    },
    {
      "cell_type": "code",
      "execution_count": null,
      "metadata": {
        "colab": {
          "base_uri": "https://localhost:8080/"
        },
        "id": "y8HOlaNLPKKq",
        "outputId": "75d42b63-4a3a-40ab-f52f-99dafd8b6fee"
      },
      "outputs": [
        {
          "output_type": "stream",
          "name": "stdout",
          "text": [
            "(60000, 66277.32752467226)\n"
          ]
        }
      ],
      "source": [
        "class Manager(Person):\n",
        "    def __init__(self, name, job, pay, client_counts):\n",
        "        super().__init__(name, job, pay)\n",
        "        self.client_counts = client_counts\n",
        "\n",
        "    def manager_raise(self):\n",
        "        self.client_counts += 1\n",
        "        self.person_raise(1)\n",
        "\n",
        "# Создание менеджера\n",
        "manager = Manager(\"Петров\", \"Менеджер\", 60000, 5)\n",
        "\n",
        "# Вывод зарплаты менеджера до и после добавления 10 клиентов\n",
        "initial_pay_manager = manager.pay\n",
        "for _ in range(10):\n",
        "    manager.manager_raise()\n",
        "new_pay_manager = manager.pay\n",
        "\n",
        "print((initial_pay_manager, new_pay_manager))"
      ]
    },
    {
      "cell_type": "markdown",
      "metadata": {
        "id": "tq0Fcrg1KfXQ"
      },
      "source": [
        "## Задание 3"
      ]
    },
    {
      "cell_type": "markdown",
      "metadata": {
        "id": "3xp-jyyHPMIb"
      },
      "source": [
        "**Условие:** Используя конструктор, создайте класс ```Department``` с атрибутами данных:\n",
        "\n",
        "*   ```name```(название департамента)\n",
        "*   ```chief```(начальник - объект класса ```Person```)\n",
        "*   ```person_list```(список подчиненных - объектов классов ```Person``` и ```Manager```)\n",
        "\n",
        "Создайте департамент с ```5``` менеджерами и ```5``` разнорабочими. Создайте метод класса ```xristmas_tree()```, который выберает ```3``` случайных сотрудников (можно/нужно начальника) и повышает им зарплату на ```30%```. Запустите этот метод ```20``` раз и выведите количество поощренных сотрудников(поощренный - получил надбавку хотя бы один раз).\n",
        "\n",
        "**Формат ответа:** число(например, 3)\n"
      ]
    },
    {
      "cell_type": "markdown",
      "metadata": {
        "id": "H5ZlBsI2PMIi"
      },
      "source": [
        "**Решение:**"
      ]
    },
    {
      "cell_type": "code",
      "execution_count": null,
      "metadata": {
        "colab": {
          "base_uri": "https://localhost:8080/"
        },
        "id": "6amsYUCoPMIn",
        "outputId": "02582b8e-5fc0-4bc0-e8be-7adbfbe56367"
      },
      "outputs": [
        {
          "output_type": "stream",
          "name": "stdout",
          "text": [
            "Количество поощренных сотрудников: 60\n"
          ]
        }
      ],
      "source": [
        "import random\n",
        "\n",
        "class Department:\n",
        "    def __init__(self, name, chief, person_list):\n",
        "        self.name = name\n",
        "        self.chief = chief\n",
        "        self.person_list = person_list\n",
        "\n",
        "    def christmas_tree(self):\n",
        "        promoted_count = 0\n",
        "        for _ in range(3):\n",
        "            random_person = random.choice(self.person_list)\n",
        "            random_person.person_raise(30)\n",
        "            promoted_count += 1\n",
        "        return promoted_count\n",
        "\n",
        "# Создание списка сотрудников\n",
        "persons = []\n",
        "for _ in range(5):\n",
        "    persons.append(Manager(\"Менеджер\", \"Manager\", 50000, 5))\n",
        "    persons.append(Person(\"Разнорабочий\", \"Worker\", 30000))\n",
        "\n",
        "# Создание департамента\n",
        "department = Department(\"Отдел продаж\", Person(\"Иванов\", \"Директор\", 100000), persons)\n",
        "\n",
        "# Запуск метода повышения зарплаты для случайных сотрудников 20 раз\n",
        "promoted_total = 0\n",
        "for _ in range(20):\n",
        "    promoted_count = department.christmas_tree()\n",
        "    if promoted_count > 0:\n",
        "        promoted_total += promoted_count\n",
        "\n",
        "print(\"Количество поощренных сотрудников:\", promoted_total)"
      ]
    }
  ],
  "metadata": {
    "colab": {
      "provenance": []
    },
    "kernelspec": {
      "display_name": "Python 3 (ipykernel)",
      "language": "python",
      "name": "python3"
    },
    "language_info": {
      "codemirror_mode": {
        "name": "ipython",
        "version": 3
      },
      "file_extension": ".py",
      "mimetype": "text/x-python",
      "name": "python",
      "nbconvert_exporter": "python",
      "pygments_lexer": "ipython3",
      "version": "3.11.7"
    }
  },
  "nbformat": 4,
  "nbformat_minor": 0
}