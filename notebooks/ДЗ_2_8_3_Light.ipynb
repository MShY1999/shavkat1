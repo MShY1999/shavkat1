{
  "cells": [
    {
      "cell_type": "markdown",
      "metadata": {
        "id": "MH-3kVwvJYeP"
      },
      "source": [
        "# 2.8.3 Объектно-ориентированное программирование как ключевой элемент языка Python"
      ]
    },
    {
      "cell_type": "markdown",
      "metadata": {
        "id": "gMwyKhlQJ1mf"
      },
      "source": [
        "## Задание 1"
      ]
    },
    {
      "cell_type": "markdown",
      "metadata": {
        "id": "Owu684lKKrjJ"
      },
      "source": [
        "**Условие:**\n",
        "\n",
        "Установите все родительские классы для класса ```IOError```.\n"
      ]
    },
    {
      "cell_type": "markdown",
      "metadata": {
        "id": "OCTvo3fHLaaJ"
      },
      "source": [
        "**Решение:**"
      ]
    },
    {
      "cell_type": "code",
      "execution_count": null,
      "metadata": {
        "colab": {
          "base_uri": "https://localhost:8080/"
        },
        "id": "f9_8IGndLeRO",
        "outputId": "8a5edcd7-9598-4713-e832-940b5298ed18"
      },
      "outputs": [
        {
          "output_type": "stream",
          "name": "stdout",
          "text": [
            "(<class 'Exception'>, <class 'BaseException'>, <class 'object'>)\n"
          ]
        }
      ],
      "source": [
        "def get_parent_classes(cls):\n",
        "    parents = cls.__bases__\n",
        "    for parent in parents:\n",
        "        parents += get_parent_classes(parent)\n",
        "    return parents\n",
        "\n",
        "# Получение всех родительских классов для класса IOError\n",
        "parent_classes = get_parent_classes(IOError)\n",
        "print(parent_classes)"
      ]
    },
    {
      "cell_type": "markdown",
      "metadata": {
        "id": "g5S0h2-wKfGE"
      },
      "source": [
        "## Задание 2"
      ]
    },
    {
      "cell_type": "markdown",
      "metadata": {
        "id": "orX7BUzcPKKf"
      },
      "source": [
        "**Условие:** Для класса ```Manager``` из задания к занятию 2.8.2 установите все родительские классы. Убедитесь, что сам класс ```Manager``` является классом."
      ]
    },
    {
      "cell_type": "markdown",
      "metadata": {
        "id": "ESSLfwqEPKKn"
      },
      "source": [
        "**Решение:**"
      ]
    },
    {
      "cell_type": "code",
      "execution_count": 1,
      "metadata": {
        "colab": {
          "base_uri": "https://localhost:8080/"
        },
        "id": "y8HOlaNLPKKq",
        "outputId": "9aebabb7-f086-4a19-aa59-f64210fd2281"
      },
      "outputs": [
        {
          "output_type": "stream",
          "name": "stdout",
          "text": [
            "(<class '__main__.Employee'>, <class 'object'>)\n",
            "True\n"
          ]
        }
      ],
      "source": [
        "class Employee:\n",
        "    def __init__(self, name, salary):\n",
        "        self.name = name\n",
        "        self.salary = salary\n",
        "\n",
        "# Определение класса Manager, который наследуется от класса Employee\n",
        "class Manager(Employee):\n",
        "    def __init__(self, name, salary, project):\n",
        "        super().__init__(name, salary)\n",
        "        self.project = project\n",
        "\n",
        "# Определение функции для получения всех родительских классов\n",
        "def get_parent_classes(cls):\n",
        "    parents = cls.__bases__\n",
        "    for parent in parents:\n",
        "        parents += get_parent_classes(parent)\n",
        "    return parents\n",
        "\n",
        "# Получение всех родительских классов для класса Manager\n",
        "parent_classes = get_parent_classes(Manager)\n",
        "print(parent_classes)\n",
        "\n",
        "# Проверка, является ли класс Manager классом\n",
        "print(isinstance(Manager, type))"
      ]
    }
  ],
  "metadata": {
    "colab": {
      "provenance": []
    },
    "kernelspec": {
      "display_name": "Python 3 (ipykernel)",
      "language": "python",
      "name": "python3"
    },
    "language_info": {
      "codemirror_mode": {
        "name": "ipython",
        "version": 3
      },
      "file_extension": ".py",
      "mimetype": "text/x-python",
      "name": "python",
      "nbconvert_exporter": "python",
      "pygments_lexer": "ipython3",
      "version": "3.11.7"
    }
  },
  "nbformat": 4,
  "nbformat_minor": 0
}