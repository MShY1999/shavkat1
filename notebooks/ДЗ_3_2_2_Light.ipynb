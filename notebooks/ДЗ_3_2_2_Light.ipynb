{
  "cells": [
    {
      "cell_type": "markdown",
      "metadata": {
        "id": "MH-3kVwvJYeP"
      },
      "source": [
        "\n",
        "# 3.2.2 Индексирование и вырезание"
      ]
    },
    {
      "cell_type": "markdown",
      "metadata": {
        "id": "gMwyKhlQJ1mf"
      },
      "source": [
        "## Задание 1"
      ]
    },
    {
      "cell_type": "markdown",
      "metadata": {
        "id": "hhatp_ZmkvHs"
      },
      "source": [
        "Конечно, давайте создадим аналогичную задачу без использования изображения.\n",
        "\n",
        "**Условие:**\n",
        "Создайте целочисленный массив `ndarray` размера `(3,3)`. Представьте, что каждый элемент этого массива находится на черной позиции, как показано на следующей схеме:\n",
        "\n",
        "```\n",
        "B  W  B\n",
        "W  B  W\n",
        "B  W  B\n",
        "```\n",
        "\n",
        "Теперь, используя индексы элементов на черных позициях (B), выполните 4 выборки элементов согласно следующим выражениям:\n",
        "\n",
        "1. Выборка элементов с индексами `(0, 0)`, `(1, 1)`, `(2, 2)`.\n",
        "2. Выборка элементов с индексами `(0, 2)`, `(1, 1)`, `(2, 0)`.\n",
        "3. Выборка элементов с индексами `(0, 1)`, `(1, 1)`, `(2, 1)`.\n",
        "4. Выборка элементов с индексами `(1, 0)`, `(1, 1)`, `(1, 2)`.\n",
        "\n",
        "Найдите максимальное значение в каждой из полученных выборок.\n",
        "\n",
        "**Формат ответа:**\n",
        "Кортеж чисел (например, `(3, 5, 2, 6)`)."
      ]
    },
    {
      "cell_type": "markdown",
      "metadata": {
        "id": "OCTvo3fHLaaJ"
      },
      "source": [
        "**Решение:**"
      ]
    },
    {
      "cell_type": "code",
      "execution_count": 1,
      "metadata": {
        "colab": {
          "base_uri": "https://localhost:8080/"
        },
        "id": "f9_8IGndLeRO",
        "outputId": "876f4566-f6ee-46f5-e1da-e9fb2ba20c27"
      },
      "outputs": [
        {
          "output_type": "stream",
          "name": "stdout",
          "text": [
            "Максимальное значение в выборке 1: 1\n",
            "Максимальное значение в выборке 2: 1\n",
            "Максимальное значение в выборке 3: 1\n",
            "Максимальное значение в выборке 4: 1\n"
          ]
        }
      ],
      "source": [
        "import numpy as np\n",
        "\n",
        "# создание массива ndarray размера (3,3)\n",
        "arr = np.array([[1, 0, 1],\n",
        "                [0, 1, 0],\n",
        "                [1, 0, 1]])\n",
        "\n",
        "# выборка элементов с индексами (0, 0), (1, 1), (2, 2)\n",
        "sample1 = arr[[0, 1, 2], [0, 1, 2]]\n",
        "\n",
        "# выборка элементов с индексами (0, 2), (1, 1), (2, 0)\n",
        "sample2 = arr[[0, 1, 2], [2, 1, 0]]\n",
        "\n",
        "# выборка элементов с индексами (0, 1), (1, 1), (2, 1)\n",
        "sample3 = arr[[0, 1, 2], [1, 1, 1]]\n",
        "\n",
        "# выборка элементов с индексами (1, 0), (1, 1), (1, 2)\n",
        "sample4 = arr[[1, 1, 1], [0, 1, 2]]\n",
        "\n",
        "# нахождение максимального значения в каждой выборке\n",
        "max_sample1 = np.max(sample1)\n",
        "max_sample2 = np.max(sample2)\n",
        "max_sample3 = np.max(sample3)\n",
        "max_sample4 = np.max(sample4)\n",
        "\n",
        "print(\"Максимальное значение в выборке 1:\", max_sample1)\n",
        "print(\"Максимальное значение в выборке 2:\", max_sample2)\n",
        "print(\"Максимальное значение в выборке 3:\", max_sample3)\n",
        "print(\"Максимальное значение в выборке 4:\", max_sample4)\n"
      ]
    },
    {
      "cell_type": "markdown",
      "metadata": {
        "id": "g5S0h2-wKfGE"
      },
      "source": [
        "## Задание 2"
      ]
    },
    {
      "cell_type": "markdown",
      "metadata": {
        "id": "orX7BUzcPKKf"
      },
      "source": [
        "**Условие:**\n",
        "Создайте случайный целочисленный массив ```ndarray``` из ```100``` элементов, принадлежащих отрезку ```[0,10]```. С помощью булевой индексации найдите все четные элементы в массиве. Найдите сумму полученных элементов. Используйте ```np.random.seed(1000)``` перед генерацией массива для воспроизводимости результатов.\n",
        "\n",
        "**Формат ответа:**\n",
        "Число (например, ```56```)\n",
        "\n",
        "**Оценка в баллах:** 3 балла"
      ]
    },
    {
      "cell_type": "markdown",
      "metadata": {
        "id": "ESSLfwqEPKKn"
      },
      "source": [
        "**Решение:**"
      ]
    },
    {
      "cell_type": "code",
      "execution_count": 2,
      "metadata": {
        "colab": {
          "base_uri": "https://localhost:8080/"
        },
        "id": "y8HOlaNLPKKq",
        "outputId": "9fb2378e-39bc-4f3b-a7a2-756888493cb8"
      },
      "outputs": [
        {
          "output_type": "stream",
          "name": "stdout",
          "text": [
            "Сумма четных элементов: 266\n"
          ]
        }
      ],
      "source": [
        "import numpy as np\n",
        "\n",
        "# установка seed для воспроизводимости результатов\n",
        "np.random.seed(1000)\n",
        "\n",
        "# создание случайного целочисленного массива ndarray из 100 элементов, принадлежащих отрезку [0,10]\n",
        "arr = np.random.randint(0, 11, size=100)\n",
        "\n",
        "# булевая индексация для поиска четных элементов\n",
        "even_elements = arr[arr % 2 == 0]\n",
        "\n",
        "# нахождение суммы четных элементов\n",
        "sum_even_elements = np.sum(even_elements)\n",
        "\n",
        "print(\"Сумма четных элементов:\", sum_even_elements)\n"
      ]
    },
    {
      "cell_type": "markdown",
      "metadata": {
        "id": "tq0Fcrg1KfXQ"
      },
      "source": [
        "## Задание 3"
      ]
    },
    {
      "cell_type": "markdown",
      "metadata": {
        "id": "3xp-jyyHPMIb"
      },
      "source": [
        "**Условие:**\n",
        "Создайте случайный целочисленный массив ndarray размера ```(10,10)``` элементов, принадлежащих отрезку ```[0,10]```. Сделайте подвыборку по всем строкам с нечетным индексом. Найдите сумму всех элементов в полученной матрице. Используйте ```np.random.seed(1000)``` перед генерацией массива для воспроизводимости результатов.\n",
        "\n",
        "**Формат ответа:**\n",
        "Число (например, ```150```)\n",
        "\n",
        "**Оценка в баллах:** 4 балла\n"
      ]
    },
    {
      "cell_type": "markdown",
      "metadata": {
        "id": "H5ZlBsI2PMIi"
      },
      "source": [
        "**Решение:**"
      ]
    },
    {
      "cell_type": "code",
      "execution_count": 3,
      "metadata": {
        "colab": {
          "base_uri": "https://localhost:8080/"
        },
        "id": "6amsYUCoPMIn",
        "outputId": "9ddcd00c-55d4-46b1-e759-a95f0324d30e"
      },
      "outputs": [
        {
          "output_type": "stream",
          "name": "stdout",
          "text": [
            "Сумма всех элементов в подвыборке: 253\n"
          ]
        }
      ],
      "source": [
        "import numpy as np\n",
        "\n",
        "# установка seed для воспроизводимости результатов\n",
        "np.random.seed(1000)\n",
        "\n",
        "# создание случайного целочисленного массива ndarray размера (10,10) элементов, принадлежащих отрезку [0,10]\n",
        "arr = np.random.randint(0, 11, size=(10, 10))\n",
        "\n",
        "# подвыборка по всем строкам с нечетным индексом\n",
        "sub_arr = arr[1::2, :]\n",
        "\n",
        "# нахождение суммы всех элементов в полученной матрице\n",
        "sum_sub_arr = np.sum(sub_arr)\n",
        "\n",
        "print(\"Сумма всех элементов в подвыборке:\", sum_sub_arr)\n"
      ]
    }
  ],
  "metadata": {
    "colab": {
      "provenance": []
    },
    "kernelspec": {
      "display_name": "Python 3 (ipykernel)",
      "language": "python",
      "name": "python3"
    },
    "language_info": {
      "codemirror_mode": {
        "name": "ipython",
        "version": 3
      },
      "file_extension": ".py",
      "mimetype": "text/x-python",
      "name": "python",
      "nbconvert_exporter": "python",
      "pygments_lexer": "ipython3",
      "version": "3.11.7"
    }
  },
  "nbformat": 4,
  "nbformat_minor": 0
}