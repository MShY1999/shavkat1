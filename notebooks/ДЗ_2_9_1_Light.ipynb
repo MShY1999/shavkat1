{
  "cells": [
    {
      "cell_type": "markdown",
      "metadata": {
        "id": "MH-3kVwvJYeP"
      },
      "source": [
        "\n",
        "# 2.9.1 Математические вычисления и числа, типы коллекций"
      ]
    },
    {
      "cell_type": "markdown",
      "metadata": {
        "id": "gMwyKhlQJ1mf"
      },
      "source": [
        "## Задание 1"
      ]
    },
    {
      "cell_type": "markdown",
      "metadata": {
        "id": "Owu684lKKrjJ"
      },
      "source": [
        "**Условие:**\n",
        "\n",
        "Напишите функцию, которая случайно переставляет буквы во введенном слове.\n"
      ]
    },
    {
      "cell_type": "markdown",
      "metadata": {
        "id": "ASTSpnNIXKdS"
      },
      "source": [
        "**Решение:**"
      ]
    },
    {
      "cell_type": "code",
      "execution_count": 1,
      "metadata": {
        "id": "tvYc6p-cXKdS",
        "outputId": "685c4d82-a310-49c2-e8cb-9cb953df523a",
        "colab": {
          "base_uri": "https://localhost:8080/"
        }
      },
      "outputs": [
        {
          "output_type": "stream",
          "name": "stdout",
          "text": [
            "Введите слово: 45\n",
            "Переставленное слово: 54\n"
          ]
        }
      ],
      "source": [
        "import random\n",
        "\n",
        "def переставить_буквы(слово):\n",
        "    буквы = list(слово)\n",
        "    random.shuffle(буквы)\n",
        "    return ''.join(буквы)\n",
        "\n",
        "слово = input(\"Введите слово: \")\n",
        "переставленное_слово = переставить_буквы(слово)\n",
        "print(\"Переставленное слово:\", переставленное_слово)\n"
      ]
    },
    {
      "cell_type": "markdown",
      "metadata": {
        "id": "g5S0h2-wKfGE"
      },
      "source": [
        "## Задание 2"
      ]
    },
    {
      "cell_type": "markdown",
      "metadata": {
        "id": "orX7BUzcPKKf"
      },
      "source": [
        "**Условие:**\n",
        "Используя методы модуля ```math```, найти значения $e^{\\pi}$ и $\\pi^{e}$. В случае, если первое выражение больше,то в ответе укажите 1, иначе - 0.\n",
        "\n",
        "**Формат ответа:**\n",
        "Число (например, ```1```)"
      ]
    },
    {
      "cell_type": "markdown",
      "metadata": {
        "id": "ESSLfwqEPKKn"
      },
      "source": [
        "**Решение:**"
      ]
    },
    {
      "cell_type": "code",
      "execution_count": 2,
      "metadata": {
        "colab": {
          "base_uri": "https://localhost:8080/"
        },
        "id": "y8HOlaNLPKKq",
        "outputId": "4e6df569-c54b-492c-d463-bec9d9d2ecce"
      },
      "outputs": [
        {
          "output_type": "stream",
          "name": "stdout",
          "text": [
            "1\n"
          ]
        }
      ],
      "source": [
        "import math\n",
        "\n",
        "e_в_степени_пи = math.exp(math.pi)\n",
        "пи_в_степени_e = math.exp(1)\n",
        "\n",
        "if e_в_степени_пи > пи_в_степени_e:\n",
        "    print(1)\n",
        "else:\n",
        "    print(0)"
      ]
    }
  ],
  "metadata": {
    "colab": {
      "provenance": []
    },
    "kernelspec": {
      "display_name": "Python 3 (ipykernel)",
      "language": "python",
      "name": "python3"
    },
    "language_info": {
      "codemirror_mode": {
        "name": "ipython",
        "version": 3
      },
      "file_extension": ".py",
      "mimetype": "text/x-python",
      "name": "python",
      "nbconvert_exporter": "python",
      "pygments_lexer": "ipython3",
      "version": "3.11.7"
    }
  },
  "nbformat": 4,
  "nbformat_minor": 0
}